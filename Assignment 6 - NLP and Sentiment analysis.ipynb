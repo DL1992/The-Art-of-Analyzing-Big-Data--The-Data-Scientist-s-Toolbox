{
 "cells": [
  {
   "cell_type": "markdown",
   "metadata": {},
   "source": [
    "# Homework Assignment  6"
   ]
  },
  {
   "cell_type": "markdown",
   "metadata": {},
   "source": [
    "**Question 1:** Construct a sentiment classifier using 80% of the reviews in the [Amazon Fine Food Reviews dataset](https://www.kaggle.com/snap/amazon-fine-food-reviews).\n",
    "The classifier needs to predict if a product got a one-star or a five-star review. \n",
    "Evaluate the classifier using the rest of the data (30pt). \n"
   ]
  },
  {
   "cell_type": "code",
   "execution_count": 9,
   "metadata": {},
   "outputs": [],
   "source": [
    "import turicreate as tc"
   ]
  },
  {
   "cell_type": "code",
   "execution_count": 10,
   "metadata": {},
   "outputs": [
    {
     "data": {
      "text/html": [
       "<pre>Unexpected characters after last column. \"one of only a very few\"\n",
       "Parse failed at token ending at: \n",
       "\thile. This is a very rare hot sauce, one of only a very few,\u001b[1;31m^\u001b[0m where the actual chile is the major ingredient.\n",
       "Successfully parsed 10 tokens: \n",
       "\t0: 74275\n",
       "\t1: B005B3HKPO\n",
       "\t2: A3OC6M21K4UAQ\n",
       "\t3: tw\n",
       "\t4: 2\n",
       "\t5: 5\n",
       "\t6: 2\n",
       "\t7: 1328486400\n",
       "\t8: whats with ... is smell??\n",
       "\t9: ummm can s ... mmended!.,</pre>"
      ],
      "text/plain": [
       "Unexpected characters after last column. \"one of only a very few\"\n",
       "Parse failed at token ending at: \n",
       "\thile. This is a very rare hot sauce, one of only a very few,\u001b[1;31m^\u001b[0m where the actual chile is the major ingredient.\n",
       "Successfully parsed 10 tokens: \n",
       "\t0: 74275\n",
       "\t1: B005B3HKPO\n",
       "\t2: A3OC6M21K4UAQ\n",
       "\t3: tw\n",
       "\t4: 2\n",
       "\t5: 5\n",
       "\t6: 2\n",
       "\t7: 1328486400\n",
       "\t8: whats with ... is smell??\n",
       "\t9: ummm can s ... mmended!.,"
      ]
     },
     "metadata": {},
     "output_type": "display_data"
    },
    {
     "data": {
      "text/html": [
       "<pre>Unexpected characters after last column. \"B000PMJLJO\"\n",
       "Parse failed at token ending at: \n",
       "\tmyself that tastes much better than this.\"\n",
       "88623,B000PMJLJO,\u001b[1;31m^\u001b[0mA1DPWQR4WSPXTM,Japri,0,0,2,1331424000,Very unsat\n",
       "Successfully parsed 10 tokens: \n",
       "\t0: 88622\n",
       "\t1: B000PMJLJO\n",
       "\t2: A2Y4S4CNGKF21S\n",
       "\t3: H. Swanson\n",
       "\t4: 0\n",
       "\t5: 0\n",
       "\t6: 2\n",
       "\t7: 1332374400\n",
       "\t8: Very dry,  ... rumbly :\",\n",
       "\t9: to the poi ... is.\"\n",
       "88623</pre>"
      ],
      "text/plain": [
       "Unexpected characters after last column. \"B000PMJLJO\"\n",
       "Parse failed at token ending at: \n",
       "\tmyself that tastes much better than this.\"\n",
       "88623,B000PMJLJO,\u001b[1;31m^\u001b[0mA1DPWQR4WSPXTM,Japri,0,0,2,1331424000,Very unsat\n",
       "Successfully parsed 10 tokens: \n",
       "\t0: 88622\n",
       "\t1: B000PMJLJO\n",
       "\t2: A2Y4S4CNGKF21S\n",
       "\t3: H. Swanson\n",
       "\t4: 0\n",
       "\t5: 0\n",
       "\t6: 2\n",
       "\t7: 1332374400\n",
       "\t8: Very dry,  ... rumbly :\",\n",
       "\t9: to the poi ... is.\"\n",
       "88623"
      ]
     },
     "metadata": {},
     "output_type": "display_data"
    },
    {
     "data": {
      "text/html": [
       "<pre>Unexpected characters after last column. \"B000GW46D4\"\n",
       "Parse failed at token ending at: \n",
       "\tmyself that tastes much better than this.\"\n",
       "35360,B000GW46D4,\u001b[1;31m^\u001b[0mA1DPWQR4WSPXTM,Japri,0,0,2,1331424000,Very unsat\n",
       "Successfully parsed 10 tokens: \n",
       "\t0: 35359\n",
       "\t1: B000GW46D4\n",
       "\t2: A2Y4S4CNGKF21S\n",
       "\t3: H. Swanson\n",
       "\t4: 0\n",
       "\t5: 0\n",
       "\t6: 2\n",
       "\t7: 1332374400\n",
       "\t8: Very dry,  ... rumbly :\",\n",
       "\t9: to the poi ... is.\"\n",
       "35360</pre>"
      ],
      "text/plain": [
       "Unexpected characters after last column. \"B000GW46D4\"\n",
       "Parse failed at token ending at: \n",
       "\tmyself that tastes much better than this.\"\n",
       "35360,B000GW46D4,\u001b[1;31m^\u001b[0mA1DPWQR4WSPXTM,Japri,0,0,2,1331424000,Very unsat\n",
       "Successfully parsed 10 tokens: \n",
       "\t0: 35359\n",
       "\t1: B000GW46D4\n",
       "\t2: A2Y4S4CNGKF21S\n",
       "\t3: H. Swanson\n",
       "\t4: 0\n",
       "\t5: 0\n",
       "\t6: 2\n",
       "\t7: 1332374400\n",
       "\t8: Very dry,  ... rumbly :\",\n",
       "\t9: to the poi ... is.\"\n",
       "35360"
      ]
     },
     "metadata": {},
     "output_type": "display_data"
    },
    {
     "data": {
      "text/html": [
       "<pre>3 lines failed to parse correctly</pre>"
      ],
      "text/plain": [
       "3 lines failed to parse correctly"
      ]
     },
     "metadata": {},
     "output_type": "display_data"
    },
    {
     "data": {
      "text/html": [
       "<pre>Finished parsing file /data/home/laadan/BigData/Lecture 6/Reviews.csv</pre>"
      ],
      "text/plain": [
       "Finished parsing file /data/home/laadan/BigData/Lecture 6/Reviews.csv"
      ]
     },
     "metadata": {},
     "output_type": "display_data"
    },
    {
     "data": {
      "text/html": [
       "<pre>Parsing completed. Parsed 100 lines in 0.226268 secs.</pre>"
      ],
      "text/plain": [
       "Parsing completed. Parsed 100 lines in 0.226268 secs."
      ]
     },
     "metadata": {},
     "output_type": "display_data"
    },
    {
     "name": "stdout",
     "output_type": "stream",
     "text": [
      "------------------------------------------------------\n",
      "Inferred types from first 100 line(s) of file as \n",
      "column_type_hints=[int,str,str,str,int,int,int,int,str,str]\n",
      "If parsing fails due to incorrect types, you can correct\n",
      "the inferred type list above and pass it to read_csv in\n",
      "the column_type_hints argument\n",
      "------------------------------------------------------\n"
     ]
    },
    {
     "data": {
      "text/html": [
       "<pre>Unexpected characters after last column. \"one of only a very few\"\n",
       "Parse failed at token ending at: \n",
       "\thile. This is a very rare hot sauce, one of only a very few,\u001b[1;31m^\u001b[0m where the actual chile is the major ingredient.\n",
       "Successfully parsed 10 tokens: \n",
       "\t0: 74275\n",
       "\t1: B005B3HKPO\n",
       "\t2: A3OC6M21K4UAQ\n",
       "\t3: tw\n",
       "\t4: 2\n",
       "\t5: 5\n",
       "\t6: 2\n",
       "\t7: 1328486400\n",
       "\t8: whats with ... is smell??\n",
       "\t9: \"ummm can  ...  hot sauce</pre>"
      ],
      "text/plain": [
       "Unexpected characters after last column. \"one of only a very few\"\n",
       "Parse failed at token ending at: \n",
       "\thile. This is a very rare hot sauce, one of only a very few,\u001b[1;31m^\u001b[0m where the actual chile is the major ingredient.\n",
       "Successfully parsed 10 tokens: \n",
       "\t0: 74275\n",
       "\t1: B005B3HKPO\n",
       "\t2: A3OC6M21K4UAQ\n",
       "\t3: tw\n",
       "\t4: 2\n",
       "\t5: 5\n",
       "\t6: 2\n",
       "\t7: 1328486400\n",
       "\t8: whats with ... is smell??\n",
       "\t9: \"ummm can  ...  hot sauce"
      ]
     },
     "metadata": {},
     "output_type": "display_data"
    },
    {
     "data": {
      "text/html": [
       "<pre>Unexpected characters after last column. \"B000PMJLJO\"\n",
       "Parse failed at token ending at: \n",
       "\tmyself that tastes much better than this.\"\n",
       "88623,B000PMJLJO,\u001b[1;31m^\u001b[0mA1DPWQR4WSPXTM,Japri,0,0,2,1331424000,Very unsat\n",
       "Successfully parsed 10 tokens: \n",
       "\t0: 88622\n",
       "\t1: B000PMJLJO\n",
       "\t2: A2Y4S4CNGKF21S\n",
       "\t3: H. Swanson\n",
       "\t4: 0\n",
       "\t5: 0\n",
       "\t6: 2\n",
       "\t7: 1332374400\n",
       "\t8: \"Very dry, ... edibly dry\n",
       "\t9: to the poi ... is.\"\n",
       "88623</pre>"
      ],
      "text/plain": [
       "Unexpected characters after last column. \"B000PMJLJO\"\n",
       "Parse failed at token ending at: \n",
       "\tmyself that tastes much better than this.\"\n",
       "88623,B000PMJLJO,\u001b[1;31m^\u001b[0mA1DPWQR4WSPXTM,Japri,0,0,2,1331424000,Very unsat\n",
       "Successfully parsed 10 tokens: \n",
       "\t0: 88622\n",
       "\t1: B000PMJLJO\n",
       "\t2: A2Y4S4CNGKF21S\n",
       "\t3: H. Swanson\n",
       "\t4: 0\n",
       "\t5: 0\n",
       "\t6: 2\n",
       "\t7: 1332374400\n",
       "\t8: \"Very dry, ... edibly dry\n",
       "\t9: to the poi ... is.\"\n",
       "88623"
      ]
     },
     "metadata": {},
     "output_type": "display_data"
    },
    {
     "data": {
      "text/html": [
       "<pre>Unexpected characters after last column. \"B000GW46D4\"\n",
       "Parse failed at token ending at: \n",
       "\tmyself that tastes much better than this.\"\n",
       "35360,B000GW46D4,\u001b[1;31m^\u001b[0mA1DPWQR4WSPXTM,Japri,0,0,2,1331424000,Very unsat\n",
       "Successfully parsed 10 tokens: \n",
       "\t0: 35359\n",
       "\t1: B000GW46D4\n",
       "\t2: A2Y4S4CNGKF21S\n",
       "\t3: H. Swanson\n",
       "\t4: 0\n",
       "\t5: 0\n",
       "\t6: 2\n",
       "\t7: 1332374400\n",
       "\t8: \"Very dry, ... edibly dry\n",
       "\t9: to the poi ... is.\"\n",
       "35360</pre>"
      ],
      "text/plain": [
       "Unexpected characters after last column. \"B000GW46D4\"\n",
       "Parse failed at token ending at: \n",
       "\tmyself that tastes much better than this.\"\n",
       "35360,B000GW46D4,\u001b[1;31m^\u001b[0mA1DPWQR4WSPXTM,Japri,0,0,2,1331424000,Very unsat\n",
       "Successfully parsed 10 tokens: \n",
       "\t0: 35359\n",
       "\t1: B000GW46D4\n",
       "\t2: A2Y4S4CNGKF21S\n",
       "\t3: H. Swanson\n",
       "\t4: 0\n",
       "\t5: 0\n",
       "\t6: 2\n",
       "\t7: 1332374400\n",
       "\t8: \"Very dry, ... edibly dry\n",
       "\t9: to the poi ... is.\"\n",
       "35360"
      ]
     },
     "metadata": {},
     "output_type": "display_data"
    },
    {
     "data": {
      "text/html": [
       "<pre>Unexpected characters after last column. \"but that awful after taste has no place in my afternoons.  Fog Chaser is flavorful but smooth. If you have had difficulty finding a good coffee for the new machines\"\n",
       "Parse failed at token ending at: \n",
       "\te had difficulty finding a good coffee for the new machines,\u001b[1;31m^\u001b[0m do give this one a try.\"\n",
       "181216,B007Y59HVM,#oc-\n",
       "Successfully parsed 10 tokens: \n",
       "\t0: 181213\n",
       "\t1: B007Y59HVM\n",
       "\t2: #oc-R3W5DW4JKJT228\n",
       "\t3: Mamaw\n",
       "\t4: 0\n",
       "\t5: 2\n",
       "\t6: 1\n",
       "\t7: 1346112000\n",
       "\t8: Disappointed\n",
       "\t9: \"I regret  ... he morning</pre>"
      ],
      "text/plain": [
       "Unexpected characters after last column. \"but that awful after taste has no place in my afternoons.  Fog Chaser is flavorful but smooth. If you have had difficulty finding a good coffee for the new machines\"\n",
       "Parse failed at token ending at: \n",
       "\te had difficulty finding a good coffee for the new machines,\u001b[1;31m^\u001b[0m do give this one a try.\"\n",
       "181216,B007Y59HVM,#oc-\n",
       "Successfully parsed 10 tokens: \n",
       "\t0: 181213\n",
       "\t1: B007Y59HVM\n",
       "\t2: #oc-R3W5DW4JKJT228\n",
       "\t3: Mamaw\n",
       "\t4: 0\n",
       "\t5: 2\n",
       "\t6: 1\n",
       "\t7: 1346112000\n",
       "\t8: Disappointed\n",
       "\t9: \"I regret  ... he morning"
      ]
     },
     "metadata": {},
     "output_type": "display_data"
    },
    {
     "data": {
      "text/html": [
       "<pre>Read 71440 lines. Lines per second: 189510</pre>"
      ],
      "text/plain": [
       "Read 71440 lines. Lines per second: 189510"
      ]
     },
     "metadata": {},
     "output_type": "display_data"
    },
    {
     "data": {
      "text/html": [
       "<pre>Unable to interpret \"nce glasses each day for 6 weeks I did not notice a significant reduction in pain or stiffness. If the star rating were for this aspect I would award 2.5-3 stars.<br /><br />The Knudsen company does not make any health claims regarding this product so as far as a beverage I would give it 4 stars. I agree with the reviews that state this does have a somewhat prune-like flavor to it. One person stated it tastes like 70% cherry and 30% prune and I would agree with that statement.<br /><br />Conclusion: I was pleased to see this juice had helped so many reviewers with their arthritis and gout; as a juice product only I think the cherry flavor is good but may not be for everyone because of the strong note of prune flavor.\"\n",
       "195029\" as a integer\n",
       "Parse failed at token ending at: \n",
       "\tveryone because of the strong note of prune flavor.\"\n",
       "195029,\u001b[1;31m^\u001b[0mB001HTG8IQ,A2MFXL6D1EJTVH,Kolef88,1,2,3,12703392\n",
       "Successfully parsed 0 tokens:</pre>"
      ],
      "text/plain": [
       "Unable to interpret \"nce glasses each day for 6 weeks I did not notice a significant reduction in pain or stiffness. If the star rating were for this aspect I would award 2.5-3 stars.<br /><br />The Knudsen company does not make any health claims regarding this product so as far as a beverage I would give it 4 stars. I agree with the reviews that state this does have a somewhat prune-like flavor to it. One person stated it tastes like 70% cherry and 30% prune and I would agree with that statement.<br /><br />Conclusion: I was pleased to see this juice had helped so many reviewers with their arthritis and gout; as a juice product only I think the cherry flavor is good but may not be for everyone because of the strong note of prune flavor.\"\n",
       "195029\" as a integer\n",
       "Parse failed at token ending at: \n",
       "\tveryone because of the strong note of prune flavor.\"\n",
       "195029,\u001b[1;31m^\u001b[0mB001HTG8IQ,A2MFXL6D1EJTVH,Kolef88,1,2,3,12703392\n",
       "Successfully parsed 0 tokens:"
      ]
     },
     "metadata": {},
     "output_type": "display_data"
    },
    {
     "data": {
      "text/html": [
       "<pre>Unable to interpret \"encouraged him to eat\" as a integer\n",
       "Parse failed at token ending at: \n",
       "\tencouraged him to eat,\u001b[1;31m^\u001b[0m again.  It is also low in fat which is what he \n",
       "Successfully parsed 0 tokens:</pre>"
      ],
      "text/plain": [
       "Unable to interpret \"encouraged him to eat\" as a integer\n",
       "Parse failed at token ending at: \n",
       "\tencouraged him to eat,\u001b[1;31m^\u001b[0m again.  It is also low in fat which is what he \n",
       "Successfully parsed 0 tokens:"
      ]
     },
     "metadata": {},
     "output_type": "display_data"
    },
    {
     "data": {
      "text/html": [
       "<pre>Unable to interpret \"aDent just for grins and really like it! The taste is pleasant and long lasting. Nice flavor still after chewing away. Would recommend it to those who aren't sure if it's a product they would like. Great gum product.\" as a integer\n",
       "Parse failed at token ending at: \n",
       "\taDent just for grins and really like it! The taste is pleasant and long lasting. Nice flavor still after chewing away. Would recommend it to those who aren't sure if it's a product they would like. Great gum product.\u001b[1;31m^\u001b[0m\n",
       "Successfully parsed 0 tokens:</pre>"
      ],
      "text/plain": [
       "Unable to interpret \"aDent just for grins and really like it! The taste is pleasant and long lasting. Nice flavor still after chewing away. Would recommend it to those who aren't sure if it's a product they would like. Great gum product.\" as a integer\n",
       "Parse failed at token ending at: \n",
       "\taDent just for grins and really like it! The taste is pleasant and long lasting. Nice flavor still after chewing away. Would recommend it to those who aren't sure if it's a product they would like. Great gum product.\u001b[1;31m^\u001b[0m\n",
       "Successfully parsed 0 tokens:"
      ]
     },
     "metadata": {},
     "output_type": "display_data"
    },
    {
     "data": {
      "text/html": [
       "<pre>Unexpected characters after last column. \"B000GW6786\"\n",
       "Parse failed at token ending at: \n",
       "\tyself that tastes much better than this.\"\n",
       "415822,B000GW6786,\u001b[1;31m^\u001b[0mA1DPWQR4WSPXTM,Japri,0,0,2,1331424000,Very unsat\n",
       "Successfully parsed 10 tokens: \n",
       "\t0: 415821\n",
       "\t1: B000GW6786\n",
       "\t2: A2Y4S4CNGKF21S\n",
       "\t3: H. Swanson\n",
       "\t4: 0\n",
       "\t5: 0\n",
       "\t6: 2\n",
       "\t7: 1332374400\n",
       "\t8: \"Very dry, ... edibly dry\n",
       "\t9: to the poi ... s.\"\n",
       "415822</pre>"
      ],
      "text/plain": [
       "Unexpected characters after last column. \"B000GW6786\"\n",
       "Parse failed at token ending at: \n",
       "\tyself that tastes much better than this.\"\n",
       "415822,B000GW6786,\u001b[1;31m^\u001b[0mA1DPWQR4WSPXTM,Japri,0,0,2,1331424000,Very unsat\n",
       "Successfully parsed 10 tokens: \n",
       "\t0: 415821\n",
       "\t1: B000GW6786\n",
       "\t2: A2Y4S4CNGKF21S\n",
       "\t3: H. Swanson\n",
       "\t4: 0\n",
       "\t5: 0\n",
       "\t6: 2\n",
       "\t7: 1332374400\n",
       "\t8: \"Very dry, ... edibly dry\n",
       "\t9: to the poi ... s.\"\n",
       "415822"
      ]
     },
     "metadata": {},
     "output_type": "display_data"
    },
    {
     "data": {
      "text/html": [
       "<pre>8 lines failed to parse correctly</pre>"
      ],
      "text/plain": [
       "8 lines failed to parse correctly"
      ]
     },
     "metadata": {},
     "output_type": "display_data"
    },
    {
     "data": {
      "text/html": [
       "<pre>Finished parsing file /data/home/laadan/BigData/Lecture 6/Reviews.csv</pre>"
      ],
      "text/plain": [
       "Finished parsing file /data/home/laadan/BigData/Lecture 6/Reviews.csv"
      ]
     },
     "metadata": {},
     "output_type": "display_data"
    },
    {
     "data": {
      "text/html": [
       "<pre>Parsing completed. Parsed 289205 lines in 1.44968 secs.</pre>"
      ],
      "text/plain": [
       "Parsing completed. Parsed 289205 lines in 1.44968 secs."
      ]
     },
     "metadata": {},
     "output_type": "display_data"
    }
   ],
   "source": [
    "sf_amazon = tc.SFrame.read_csv(\"./Reviews.csv\")\n",
    "\n",
    "sf_amazon['words_dict'] = tc.text_analytics.count_words(sf_amazon['Text'])\n",
    "sf_amazon['words_dict_no_stop'] = sf_amazon['words_dict'].dict_trim_by_keys(tc.text_analytics.stop_words(lang='en'), exclude=True)\n",
    "sf_amazon['words_2grams'] = tc.text_analytics.count_ngrams(sf_amazon['Text'], n=2, method='word')\n",
    "sf_amazon['words_3grams'] = tc.text_analytics.count_ngrams(sf_amazon['Text'], n=3, method='word')\n",
    "\n",
    "features_list = ['words_dict_no_stop','words_2grams','words_3grams','HelpfulnessNumerator','HelpfulnessDenominator']\n",
    "\n",
    "sf_amazon.materialize()\n",
    "train, test = sf_amazon.random_split(0.8)\n",
    "\n"
   ]
  },
  {
   "cell_type": "code",
   "execution_count": 11,
   "metadata": {},
   "outputs": [
    {
     "data": {
      "text/html": [
       "<pre>Automatically generating validation set by sampling about 10000 out of 231019 datapoints.</pre>"
      ],
      "text/plain": [
       "Automatically generating validation set by sampling about 10000 out of 231019 datapoints."
      ]
     },
     "metadata": {},
     "output_type": "display_data"
    },
    {
     "data": {
      "text/html": [
       "<pre>Linear regression:</pre>"
      ],
      "text/plain": [
       "Linear regression:"
      ]
     },
     "metadata": {},
     "output_type": "display_data"
    },
    {
     "data": {
      "text/html": [
       "<pre>--------------------------------------------------------</pre>"
      ],
      "text/plain": [
       "--------------------------------------------------------"
      ]
     },
     "metadata": {},
     "output_type": "display_data"
    },
    {
     "data": {
      "text/html": [
       "<pre>Number of examples          : 100034</pre>"
      ],
      "text/plain": [
       "Number of examples          : 100034"
      ]
     },
     "metadata": {},
     "output_type": "display_data"
    },
    {
     "data": {
      "text/html": [
       "<pre>Number of features          : 5</pre>"
      ],
      "text/plain": [
       "Number of features          : 5"
      ]
     },
     "metadata": {},
     "output_type": "display_data"
    },
    {
     "data": {
      "text/html": [
       "<pre>Number of unpacked features : 4449758</pre>"
      ],
      "text/plain": [
       "Number of unpacked features : 4449758"
      ]
     },
     "metadata": {},
     "output_type": "display_data"
    },
    {
     "data": {
      "text/html": [
       "<pre>Number of coefficients    : 4449759</pre>"
      ],
      "text/plain": [
       "Number of coefficients    : 4449759"
      ]
     },
     "metadata": {},
     "output_type": "display_data"
    },
    {
     "data": {
      "text/html": [
       "<pre>Starting L-BFGS</pre>"
      ],
      "text/plain": [
       "Starting L-BFGS"
      ]
     },
     "metadata": {},
     "output_type": "display_data"
    },
    {
     "data": {
      "text/html": [
       "<pre>--------------------------------------------------------</pre>"
      ],
      "text/plain": [
       "--------------------------------------------------------"
      ]
     },
     "metadata": {},
     "output_type": "display_data"
    },
    {
     "data": {
      "text/html": [
       "<pre>+-----------+----------+-----------+--------------+--------------------+----------------------+---------------------------------+-----------------------------------+</pre>"
      ],
      "text/plain": [
       "+-----------+----------+-----------+--------------+--------------------+----------------------+---------------------------------+-----------------------------------+"
      ]
     },
     "metadata": {},
     "output_type": "display_data"
    },
    {
     "data": {
      "text/html": [
       "<pre>| Iteration | Passes   | Step size | Elapsed Time | Training Max Error | Validation Max Error | Training Root-Mean-Square Error | Validation Root-Mean-Square Error |</pre>"
      ],
      "text/plain": [
       "| Iteration | Passes   | Step size | Elapsed Time | Training Max Error | Validation Max Error | Training Root-Mean-Square Error | Validation Root-Mean-Square Error |"
      ]
     },
     "metadata": {},
     "output_type": "display_data"
    },
    {
     "data": {
      "text/html": [
       "<pre>+-----------+----------+-----------+--------------+--------------------+----------------------+---------------------------------+-----------------------------------+</pre>"
      ],
      "text/plain": [
       "+-----------+----------+-----------+--------------+--------------------+----------------------+---------------------------------+-----------------------------------+"
      ]
     },
     "metadata": {},
     "output_type": "display_data"
    },
    {
     "data": {
      "text/html": [
       "<pre>| 0         | 5        | 0.040077  | 89.810262    | 54.438102          | 24.679285            | 3.184189                        | 3.239102                          |</pre>"
      ],
      "text/plain": [
       "| 0         | 5        | 0.040077  | 89.810262    | 54.438102          | 24.679285            | 3.184189                        | 3.239102                          |"
      ]
     },
     "metadata": {},
     "output_type": "display_data"
    },
    {
     "data": {
      "text/html": [
       "<pre>| 1         | 9        | 0.841627  | 157.567019   | 132.898782         | 29.945461            | 2.769383                        | 2.993659                          |</pre>"
      ],
      "text/plain": [
       "| 1         | 9        | 0.841627  | 157.567019   | 132.898782         | 29.945461            | 2.769383                        | 2.993659                          |"
      ]
     },
     "metadata": {},
     "output_type": "display_data"
    },
    {
     "data": {
      "text/html": [
       "<pre>| 2         | 11       | 1.000000  | 162.192499   | 32.440690          | 31.389395            | 2.467183                        | 2.885572                          |</pre>"
      ],
      "text/plain": [
       "| 2         | 11       | 1.000000  | 162.192499   | 32.440690          | 31.389395            | 2.467183                        | 2.885572                          |"
      ]
     },
     "metadata": {},
     "output_type": "display_data"
    },
    {
     "data": {
      "text/html": [
       "<pre>| 3         | 12       | 1.000000  | 168.264752   | 32.523688          | 33.224676            | 2.156623                        | 2.763488                          |</pre>"
      ],
      "text/plain": [
       "| 3         | 12       | 1.000000  | 168.264752   | 32.523688          | 33.224676            | 2.156623                        | 2.763488                          |"
      ]
     },
     "metadata": {},
     "output_type": "display_data"
    },
    {
     "data": {
      "text/html": [
       "<pre>| 4         | 13       | 1.000000  | 172.061339   | 143.042790         | 35.120778            | 1.883543                        | 2.647488                          |</pre>"
      ],
      "text/plain": [
       "| 4         | 13       | 1.000000  | 172.061339   | 143.042790         | 35.120778            | 1.883543                        | 2.647488                          |"
      ]
     },
     "metadata": {},
     "output_type": "display_data"
    },
    {
     "data": {
      "text/html": [
       "<pre>| 6         | 15       | 1.000000  | 180.472791   | 35.440533          | 35.703852            | 1.504224                        | 2.549672                          |</pre>"
      ],
      "text/plain": [
       "| 6         | 15       | 1.000000  | 180.472791   | 35.440533          | 35.703852            | 1.504224                        | 2.549672                          |"
      ]
     },
     "metadata": {},
     "output_type": "display_data"
    },
    {
     "data": {
      "text/html": [
       "<pre>| 7         | 16       | 1.000000  | 185.156636   | 26.524445          | 35.438833            | 1.299820                        | 2.498211                          |</pre>"
      ],
      "text/plain": [
       "| 7         | 16       | 1.000000  | 185.156636   | 26.524445          | 35.438833            | 1.299820                        | 2.498211                          |"
      ]
     },
     "metadata": {},
     "output_type": "display_data"
    },
    {
     "data": {
      "text/html": [
       "<pre>| 8         | 17       | 1.000000  | 190.073990   | 79.299900          | 35.511904            | 1.178808                        | 2.455219                          |</pre>"
      ],
      "text/plain": [
       "| 8         | 17       | 1.000000  | 190.073990   | 79.299900          | 35.511904            | 1.178808                        | 2.455219                          |"
      ]
     },
     "metadata": {},
     "output_type": "display_data"
    },
    {
     "data": {
      "text/html": [
       "<pre>| 9         | 22       | 0.827920  | 203.277163   | 30.555309          | 35.553540            | 1.057074                        | 2.444266                          |</pre>"
      ],
      "text/plain": [
       "| 9         | 22       | 0.827920  | 203.277163   | 30.555309          | 35.553540            | 1.057074                        | 2.444266                          |"
      ]
     },
     "metadata": {},
     "output_type": "display_data"
    },
    {
     "data": {
      "text/html": [
       "<pre>+-----------+----------+-----------+--------------+--------------------+----------------------+---------------------------------+-----------------------------------+</pre>"
      ],
      "text/plain": [
       "+-----------+----------+-----------+--------------+--------------------+----------------------+---------------------------------+-----------------------------------+"
      ]
     },
     "metadata": {},
     "output_type": "display_data"
    },
    {
     "data": {
      "text/plain": [
       "{'max_error': 30.185014602169446, 'rmse': 2.4090332002996746}"
      ]
     },
     "execution_count": 11,
     "metadata": {},
     "output_type": "execute_result"
    }
   ],
   "source": [
    "cls = tc.regression.create(train, features=features_list, target=\"Score\")\n",
    "\n",
    "cls.evaluate(test)"
   ]
  },
  {
   "cell_type": "markdown",
   "metadata": {},
   "source": [
    "**Question 2:** Construct a sentiment classifier using features from the [TextBlob package](https://textblob.readthedocs.io/en/dev/index.html),\n",
    "    and from the [affin package](https://pypi.org/project/afinn/). Compare the two classifiers results and visualize it (however you want) (20pt)"
   ]
  },
  {
   "cell_type": "code",
   "execution_count": 14,
   "metadata": {},
   "outputs": [],
   "source": [
    "import turicreate as tc\n",
    "from afinn import Afinn\n",
    "import spacy\n",
    "from tqdm import tqdm_notebook as tqdm\n",
    "import en_core_web_lg\n",
    "from textblob import TextBlob\n",
    "import pandas as pd\n",
    "import matplotlib.pyplot as plt\n",
    "%matplotlib inline \n",
    "import seaborn as sns"
   ]
  },
  {
   "cell_type": "code",
   "execution_count": 17,
   "metadata": {},
   "outputs": [
    {
     "data": {
      "text/html": [
       "<pre>Unexpected characters after last column. \"one of only a very few\"\n",
       "Parse failed at token ending at: \n",
       "\thile. This is a very rare hot sauce, one of only a very few,\u001b[1;31m^\u001b[0m where the actual chile is the major ingredient.\n",
       "Successfully parsed 10 tokens: \n",
       "\t0: 74275\n",
       "\t1: B005B3HKPO\n",
       "\t2: A3OC6M21K4UAQ\n",
       "\t3: tw\n",
       "\t4: 2\n",
       "\t5: 5\n",
       "\t6: 2\n",
       "\t7: 1328486400\n",
       "\t8: whats with ... is smell??\n",
       "\t9: ummm can s ... mmended!.,</pre>"
      ],
      "text/plain": [
       "Unexpected characters after last column. \"one of only a very few\"\n",
       "Parse failed at token ending at: \n",
       "\thile. This is a very rare hot sauce, one of only a very few,\u001b[1;31m^\u001b[0m where the actual chile is the major ingredient.\n",
       "Successfully parsed 10 tokens: \n",
       "\t0: 74275\n",
       "\t1: B005B3HKPO\n",
       "\t2: A3OC6M21K4UAQ\n",
       "\t3: tw\n",
       "\t4: 2\n",
       "\t5: 5\n",
       "\t6: 2\n",
       "\t7: 1328486400\n",
       "\t8: whats with ... is smell??\n",
       "\t9: ummm can s ... mmended!.,"
      ]
     },
     "metadata": {},
     "output_type": "display_data"
    },
    {
     "data": {
      "text/html": [
       "<pre>Unexpected characters after last column. \"B000PMJLJO\"\n",
       "Parse failed at token ending at: \n",
       "\tmyself that tastes much better than this.\"\n",
       "88623,B000PMJLJO,\u001b[1;31m^\u001b[0mA1DPWQR4WSPXTM,Japri,0,0,2,1331424000,Very unsat\n",
       "Successfully parsed 10 tokens: \n",
       "\t0: 88622\n",
       "\t1: B000PMJLJO\n",
       "\t2: A2Y4S4CNGKF21S\n",
       "\t3: H. Swanson\n",
       "\t4: 0\n",
       "\t5: 0\n",
       "\t6: 2\n",
       "\t7: 1332374400\n",
       "\t8: Very dry,  ... rumbly :\",\n",
       "\t9: to the poi ... is.\"\n",
       "88623</pre>"
      ],
      "text/plain": [
       "Unexpected characters after last column. \"B000PMJLJO\"\n",
       "Parse failed at token ending at: \n",
       "\tmyself that tastes much better than this.\"\n",
       "88623,B000PMJLJO,\u001b[1;31m^\u001b[0mA1DPWQR4WSPXTM,Japri,0,0,2,1331424000,Very unsat\n",
       "Successfully parsed 10 tokens: \n",
       "\t0: 88622\n",
       "\t1: B000PMJLJO\n",
       "\t2: A2Y4S4CNGKF21S\n",
       "\t3: H. Swanson\n",
       "\t4: 0\n",
       "\t5: 0\n",
       "\t6: 2\n",
       "\t7: 1332374400\n",
       "\t8: Very dry,  ... rumbly :\",\n",
       "\t9: to the poi ... is.\"\n",
       "88623"
      ]
     },
     "metadata": {},
     "output_type": "display_data"
    },
    {
     "data": {
      "text/html": [
       "<pre>Unexpected characters after last column. \"B000GW46D4\"\n",
       "Parse failed at token ending at: \n",
       "\tmyself that tastes much better than this.\"\n",
       "35360,B000GW46D4,\u001b[1;31m^\u001b[0mA1DPWQR4WSPXTM,Japri,0,0,2,1331424000,Very unsat\n",
       "Successfully parsed 10 tokens: \n",
       "\t0: 35359\n",
       "\t1: B000GW46D4\n",
       "\t2: A2Y4S4CNGKF21S\n",
       "\t3: H. Swanson\n",
       "\t4: 0\n",
       "\t5: 0\n",
       "\t6: 2\n",
       "\t7: 1332374400\n",
       "\t8: Very dry,  ... rumbly :\",\n",
       "\t9: to the poi ... is.\"\n",
       "35360</pre>"
      ],
      "text/plain": [
       "Unexpected characters after last column. \"B000GW46D4\"\n",
       "Parse failed at token ending at: \n",
       "\tmyself that tastes much better than this.\"\n",
       "35360,B000GW46D4,\u001b[1;31m^\u001b[0mA1DPWQR4WSPXTM,Japri,0,0,2,1331424000,Very unsat\n",
       "Successfully parsed 10 tokens: \n",
       "\t0: 35359\n",
       "\t1: B000GW46D4\n",
       "\t2: A2Y4S4CNGKF21S\n",
       "\t3: H. Swanson\n",
       "\t4: 0\n",
       "\t5: 0\n",
       "\t6: 2\n",
       "\t7: 1332374400\n",
       "\t8: Very dry,  ... rumbly :\",\n",
       "\t9: to the poi ... is.\"\n",
       "35360"
      ]
     },
     "metadata": {},
     "output_type": "display_data"
    },
    {
     "data": {
      "text/html": [
       "<pre>3 lines failed to parse correctly</pre>"
      ],
      "text/plain": [
       "3 lines failed to parse correctly"
      ]
     },
     "metadata": {},
     "output_type": "display_data"
    },
    {
     "data": {
      "text/html": [
       "<pre>Finished parsing file /data/home/laadan/BigData/Lecture 6/Reviews.csv</pre>"
      ],
      "text/plain": [
       "Finished parsing file /data/home/laadan/BigData/Lecture 6/Reviews.csv"
      ]
     },
     "metadata": {},
     "output_type": "display_data"
    },
    {
     "data": {
      "text/html": [
       "<pre>Parsing completed. Parsed 100 lines in 0.22393 secs.</pre>"
      ],
      "text/plain": [
       "Parsing completed. Parsed 100 lines in 0.22393 secs."
      ]
     },
     "metadata": {},
     "output_type": "display_data"
    },
    {
     "name": "stdout",
     "output_type": "stream",
     "text": [
      "------------------------------------------------------\n",
      "Inferred types from first 100 line(s) of file as \n",
      "column_type_hints=[int,str,str,str,int,int,int,int,str,str]\n",
      "If parsing fails due to incorrect types, you can correct\n",
      "the inferred type list above and pass it to read_csv in\n",
      "the column_type_hints argument\n",
      "------------------------------------------------------\n"
     ]
    },
    {
     "data": {
      "text/html": [
       "<pre>Unexpected characters after last column. \"one of only a very few\"\n",
       "Parse failed at token ending at: \n",
       "\thile. This is a very rare hot sauce, one of only a very few,\u001b[1;31m^\u001b[0m where the actual chile is the major ingredient.\n",
       "Successfully parsed 10 tokens: \n",
       "\t0: 74275\n",
       "\t1: B005B3HKPO\n",
       "\t2: A3OC6M21K4UAQ\n",
       "\t3: tw\n",
       "\t4: 2\n",
       "\t5: 5\n",
       "\t6: 2\n",
       "\t7: 1328486400\n",
       "\t8: whats with ... is smell??\n",
       "\t9: \"ummm can  ...  hot sauce</pre>"
      ],
      "text/plain": [
       "Unexpected characters after last column. \"one of only a very few\"\n",
       "Parse failed at token ending at: \n",
       "\thile. This is a very rare hot sauce, one of only a very few,\u001b[1;31m^\u001b[0m where the actual chile is the major ingredient.\n",
       "Successfully parsed 10 tokens: \n",
       "\t0: 74275\n",
       "\t1: B005B3HKPO\n",
       "\t2: A3OC6M21K4UAQ\n",
       "\t3: tw\n",
       "\t4: 2\n",
       "\t5: 5\n",
       "\t6: 2\n",
       "\t7: 1328486400\n",
       "\t8: whats with ... is smell??\n",
       "\t9: \"ummm can  ...  hot sauce"
      ]
     },
     "metadata": {},
     "output_type": "display_data"
    },
    {
     "data": {
      "text/html": [
       "<pre>Unexpected characters after last column. \"B000PMJLJO\"\n",
       "Parse failed at token ending at: \n",
       "\tmyself that tastes much better than this.\"\n",
       "88623,B000PMJLJO,\u001b[1;31m^\u001b[0mA1DPWQR4WSPXTM,Japri,0,0,2,1331424000,Very unsat\n",
       "Successfully parsed 10 tokens: \n",
       "\t0: 88622\n",
       "\t1: B000PMJLJO\n",
       "\t2: A2Y4S4CNGKF21S\n",
       "\t3: H. Swanson\n",
       "\t4: 0\n",
       "\t5: 0\n",
       "\t6: 2\n",
       "\t7: 1332374400\n",
       "\t8: \"Very dry, ... edibly dry\n",
       "\t9: to the poi ... is.\"\n",
       "88623</pre>"
      ],
      "text/plain": [
       "Unexpected characters after last column. \"B000PMJLJO\"\n",
       "Parse failed at token ending at: \n",
       "\tmyself that tastes much better than this.\"\n",
       "88623,B000PMJLJO,\u001b[1;31m^\u001b[0mA1DPWQR4WSPXTM,Japri,0,0,2,1331424000,Very unsat\n",
       "Successfully parsed 10 tokens: \n",
       "\t0: 88622\n",
       "\t1: B000PMJLJO\n",
       "\t2: A2Y4S4CNGKF21S\n",
       "\t3: H. Swanson\n",
       "\t4: 0\n",
       "\t5: 0\n",
       "\t6: 2\n",
       "\t7: 1332374400\n",
       "\t8: \"Very dry, ... edibly dry\n",
       "\t9: to the poi ... is.\"\n",
       "88623"
      ]
     },
     "metadata": {},
     "output_type": "display_data"
    },
    {
     "data": {
      "text/html": [
       "<pre>Unexpected characters after last column. \"B000GW46D4\"\n",
       "Parse failed at token ending at: \n",
       "\tmyself that tastes much better than this.\"\n",
       "35360,B000GW46D4,\u001b[1;31m^\u001b[0mA1DPWQR4WSPXTM,Japri,0,0,2,1331424000,Very unsat\n",
       "Successfully parsed 10 tokens: \n",
       "\t0: 35359\n",
       "\t1: B000GW46D4\n",
       "\t2: A2Y4S4CNGKF21S\n",
       "\t3: H. Swanson\n",
       "\t4: 0\n",
       "\t5: 0\n",
       "\t6: 2\n",
       "\t7: 1332374400\n",
       "\t8: \"Very dry, ... edibly dry\n",
       "\t9: to the poi ... is.\"\n",
       "35360</pre>"
      ],
      "text/plain": [
       "Unexpected characters after last column. \"B000GW46D4\"\n",
       "Parse failed at token ending at: \n",
       "\tmyself that tastes much better than this.\"\n",
       "35360,B000GW46D4,\u001b[1;31m^\u001b[0mA1DPWQR4WSPXTM,Japri,0,0,2,1331424000,Very unsat\n",
       "Successfully parsed 10 tokens: \n",
       "\t0: 35359\n",
       "\t1: B000GW46D4\n",
       "\t2: A2Y4S4CNGKF21S\n",
       "\t3: H. Swanson\n",
       "\t4: 0\n",
       "\t5: 0\n",
       "\t6: 2\n",
       "\t7: 1332374400\n",
       "\t8: \"Very dry, ... edibly dry\n",
       "\t9: to the poi ... is.\"\n",
       "35360"
      ]
     },
     "metadata": {},
     "output_type": "display_data"
    },
    {
     "data": {
      "text/html": [
       "<pre>Unexpected characters after last column. \"but that awful after taste has no place in my afternoons.  Fog Chaser is flavorful but smooth. If you have had difficulty finding a good coffee for the new machines\"\n",
       "Parse failed at token ending at: \n",
       "\te had difficulty finding a good coffee for the new machines,\u001b[1;31m^\u001b[0m do give this one a try.\"\n",
       "181216,B007Y59HVM,#oc-\n",
       "Successfully parsed 10 tokens: \n",
       "\t0: 181213\n",
       "\t1: B007Y59HVM\n",
       "\t2: #oc-R3W5DW4JKJT228\n",
       "\t3: Mamaw\n",
       "\t4: 0\n",
       "\t5: 2\n",
       "\t6: 1\n",
       "\t7: 1346112000\n",
       "\t8: Disappointed\n",
       "\t9: \"I regret  ... he morning</pre>"
      ],
      "text/plain": [
       "Unexpected characters after last column. \"but that awful after taste has no place in my afternoons.  Fog Chaser is flavorful but smooth. If you have had difficulty finding a good coffee for the new machines\"\n",
       "Parse failed at token ending at: \n",
       "\te had difficulty finding a good coffee for the new machines,\u001b[1;31m^\u001b[0m do give this one a try.\"\n",
       "181216,B007Y59HVM,#oc-\n",
       "Successfully parsed 10 tokens: \n",
       "\t0: 181213\n",
       "\t1: B007Y59HVM\n",
       "\t2: #oc-R3W5DW4JKJT228\n",
       "\t3: Mamaw\n",
       "\t4: 0\n",
       "\t5: 2\n",
       "\t6: 1\n",
       "\t7: 1346112000\n",
       "\t8: Disappointed\n",
       "\t9: \"I regret  ... he morning"
      ]
     },
     "metadata": {},
     "output_type": "display_data"
    },
    {
     "data": {
      "text/html": [
       "<pre>Read 71440 lines. Lines per second: 190786</pre>"
      ],
      "text/plain": [
       "Read 71440 lines. Lines per second: 190786"
      ]
     },
     "metadata": {},
     "output_type": "display_data"
    },
    {
     "data": {
      "text/html": [
       "<pre>Unable to interpret \"nce glasses each day for 6 weeks I did not notice a significant reduction in pain or stiffness. If the star rating were for this aspect I would award 2.5-3 stars.<br /><br />The Knudsen company does not make any health claims regarding this product so as far as a beverage I would give it 4 stars. I agree with the reviews that state this does have a somewhat prune-like flavor to it. One person stated it tastes like 70% cherry and 30% prune and I would agree with that statement.<br /><br />Conclusion: I was pleased to see this juice had helped so many reviewers with their arthritis and gout; as a juice product only I think the cherry flavor is good but may not be for everyone because of the strong note of prune flavor.\"\n",
       "195029\" as a integer\n",
       "Parse failed at token ending at: \n",
       "\tveryone because of the strong note of prune flavor.\"\n",
       "195029,\u001b[1;31m^\u001b[0mB001HTG8IQ,A2MFXL6D1EJTVH,Kolef88,1,2,3,12703392\n",
       "Successfully parsed 0 tokens:</pre>"
      ],
      "text/plain": [
       "Unable to interpret \"nce glasses each day for 6 weeks I did not notice a significant reduction in pain or stiffness. If the star rating were for this aspect I would award 2.5-3 stars.<br /><br />The Knudsen company does not make any health claims regarding this product so as far as a beverage I would give it 4 stars. I agree with the reviews that state this does have a somewhat prune-like flavor to it. One person stated it tastes like 70% cherry and 30% prune and I would agree with that statement.<br /><br />Conclusion: I was pleased to see this juice had helped so many reviewers with their arthritis and gout; as a juice product only I think the cherry flavor is good but may not be for everyone because of the strong note of prune flavor.\"\n",
       "195029\" as a integer\n",
       "Parse failed at token ending at: \n",
       "\tveryone because of the strong note of prune flavor.\"\n",
       "195029,\u001b[1;31m^\u001b[0mB001HTG8IQ,A2MFXL6D1EJTVH,Kolef88,1,2,3,12703392\n",
       "Successfully parsed 0 tokens:"
      ]
     },
     "metadata": {},
     "output_type": "display_data"
    },
    {
     "data": {
      "text/html": [
       "<pre>Unable to interpret \"encouraged him to eat\" as a integer\n",
       "Parse failed at token ending at: \n",
       "\tencouraged him to eat,\u001b[1;31m^\u001b[0m again.  It is also low in fat which is what he \n",
       "Successfully parsed 0 tokens:</pre>"
      ],
      "text/plain": [
       "Unable to interpret \"encouraged him to eat\" as a integer\n",
       "Parse failed at token ending at: \n",
       "\tencouraged him to eat,\u001b[1;31m^\u001b[0m again.  It is also low in fat which is what he \n",
       "Successfully parsed 0 tokens:"
      ]
     },
     "metadata": {},
     "output_type": "display_data"
    },
    {
     "data": {
      "text/html": [
       "<pre>Unable to interpret \"aDent just for grins and really like it! The taste is pleasant and long lasting. Nice flavor still after chewing away. Would recommend it to those who aren't sure if it's a product they would like. Great gum product.\" as a integer\n",
       "Parse failed at token ending at: \n",
       "\taDent just for grins and really like it! The taste is pleasant and long lasting. Nice flavor still after chewing away. Would recommend it to those who aren't sure if it's a product they would like. Great gum product.\u001b[1;31m^\u001b[0m\n",
       "Successfully parsed 0 tokens:</pre>"
      ],
      "text/plain": [
       "Unable to interpret \"aDent just for grins and really like it! The taste is pleasant and long lasting. Nice flavor still after chewing away. Would recommend it to those who aren't sure if it's a product they would like. Great gum product.\" as a integer\n",
       "Parse failed at token ending at: \n",
       "\taDent just for grins and really like it! The taste is pleasant and long lasting. Nice flavor still after chewing away. Would recommend it to those who aren't sure if it's a product they would like. Great gum product.\u001b[1;31m^\u001b[0m\n",
       "Successfully parsed 0 tokens:"
      ]
     },
     "metadata": {},
     "output_type": "display_data"
    },
    {
     "data": {
      "text/html": [
       "<pre>Unexpected characters after last column. \"B000GW6786\"\n",
       "Parse failed at token ending at: \n",
       "\tyself that tastes much better than this.\"\n",
       "415822,B000GW6786,\u001b[1;31m^\u001b[0mA1DPWQR4WSPXTM,Japri,0,0,2,1331424000,Very unsat\n",
       "Successfully parsed 10 tokens: \n",
       "\t0: 415821\n",
       "\t1: B000GW6786\n",
       "\t2: A2Y4S4CNGKF21S\n",
       "\t3: H. Swanson\n",
       "\t4: 0\n",
       "\t5: 0\n",
       "\t6: 2\n",
       "\t7: 1332374400\n",
       "\t8: \"Very dry, ... edibly dry\n",
       "\t9: to the poi ... s.\"\n",
       "415822</pre>"
      ],
      "text/plain": [
       "Unexpected characters after last column. \"B000GW6786\"\n",
       "Parse failed at token ending at: \n",
       "\tyself that tastes much better than this.\"\n",
       "415822,B000GW6786,\u001b[1;31m^\u001b[0mA1DPWQR4WSPXTM,Japri,0,0,2,1331424000,Very unsat\n",
       "Successfully parsed 10 tokens: \n",
       "\t0: 415821\n",
       "\t1: B000GW6786\n",
       "\t2: A2Y4S4CNGKF21S\n",
       "\t3: H. Swanson\n",
       "\t4: 0\n",
       "\t5: 0\n",
       "\t6: 2\n",
       "\t7: 1332374400\n",
       "\t8: \"Very dry, ... edibly dry\n",
       "\t9: to the poi ... s.\"\n",
       "415822"
      ]
     },
     "metadata": {},
     "output_type": "display_data"
    },
    {
     "data": {
      "text/html": [
       "<pre>8 lines failed to parse correctly</pre>"
      ],
      "text/plain": [
       "8 lines failed to parse correctly"
      ]
     },
     "metadata": {},
     "output_type": "display_data"
    },
    {
     "data": {
      "text/html": [
       "<pre>Finished parsing file /data/home/laadan/BigData/Lecture 6/Reviews.csv</pre>"
      ],
      "text/plain": [
       "Finished parsing file /data/home/laadan/BigData/Lecture 6/Reviews.csv"
      ]
     },
     "metadata": {},
     "output_type": "display_data"
    },
    {
     "data": {
      "text/html": [
       "<pre>Parsing completed. Parsed 289205 lines in 1.33482 secs.</pre>"
      ],
      "text/plain": [
       "Parsing completed. Parsed 289205 lines in 1.33482 secs."
      ]
     },
     "metadata": {},
     "output_type": "display_data"
    },
    {
     "name": "stdout",
     "output_type": "stream",
     "text": [
      "PROGRESS: Creating a validation set from 5 percent of training data. This may take a while.\n",
      "          You can set ``validation_set=None`` to disable validation tracking.\n",
      "\n",
      "PROGRESS: The following methods are available for this type of problem.\n",
      "PROGRESS: BoostedTreesClassifier, RandomForestClassifier, DecisionTreeClassifier, SVMClassifier, LogisticClassifier\n",
      "PROGRESS: The returned model will be chosen according to validation accuracy.\n"
     ]
    },
    {
     "data": {
      "text/html": [
       "<pre>Boosted trees classifier:</pre>"
      ],
      "text/plain": [
       "Boosted trees classifier:"
      ]
     },
     "metadata": {},
     "output_type": "display_data"
    },
    {
     "data": {
      "text/html": [
       "<pre>--------------------------------------------------------</pre>"
      ],
      "text/plain": [
       "--------------------------------------------------------"
      ]
     },
     "metadata": {},
     "output_type": "display_data"
    },
    {
     "data": {
      "text/html": [
       "<pre>Number of examples          : 219971</pre>"
      ],
      "text/plain": [
       "Number of examples          : 219971"
      ]
     },
     "metadata": {},
     "output_type": "display_data"
    },
    {
     "data": {
      "text/html": [
       "<pre>Number of classes           : 2</pre>"
      ],
      "text/plain": [
       "Number of classes           : 2"
      ]
     },
     "metadata": {},
     "output_type": "display_data"
    },
    {
     "data": {
      "text/html": [
       "<pre>Number of feature columns   : 1</pre>"
      ],
      "text/plain": [
       "Number of feature columns   : 1"
      ]
     },
     "metadata": {},
     "output_type": "display_data"
    },
    {
     "data": {
      "text/html": [
       "<pre>Number of unpacked features : 1</pre>"
      ],
      "text/plain": [
       "Number of unpacked features : 1"
      ]
     },
     "metadata": {},
     "output_type": "display_data"
    },
    {
     "data": {
      "text/html": [
       "<pre>+-----------+--------------+-------------------+---------------------+-------------------+---------------------+</pre>"
      ],
      "text/plain": [
       "+-----------+--------------+-------------------+---------------------+-------------------+---------------------+"
      ]
     },
     "metadata": {},
     "output_type": "display_data"
    },
    {
     "data": {
      "text/html": [
       "<pre>| Iteration | Elapsed Time | Training Accuracy | Validation Accuracy | Training Log Loss | Validation Log Loss |</pre>"
      ],
      "text/plain": [
       "| Iteration | Elapsed Time | Training Accuracy | Validation Accuracy | Training Log Loss | Validation Log Loss |"
      ]
     },
     "metadata": {},
     "output_type": "display_data"
    },
    {
     "data": {
      "text/html": [
       "<pre>+-----------+--------------+-------------------+---------------------+-------------------+---------------------+</pre>"
      ],
      "text/plain": [
       "+-----------+--------------+-------------------+---------------------+-------------------+---------------------+"
      ]
     },
     "metadata": {},
     "output_type": "display_data"
    },
    {
     "data": {
      "text/html": [
       "<pre>| 1         | 0.190215     | 0.802256          | 0.804604            | 0.588374          | 0.587844            |</pre>"
      ],
      "text/plain": [
       "| 1         | 0.190215     | 0.802256          | 0.804604            | 0.588374          | 0.587844            |"
      ]
     },
     "metadata": {},
     "output_type": "display_data"
    },
    {
     "data": {
      "text/html": [
       "<pre>| 2         | 0.361396     | 0.802256          | 0.804604            | 0.533752          | 0.532924            |</pre>"
      ],
      "text/plain": [
       "| 2         | 0.361396     | 0.802256          | 0.804604            | 0.533752          | 0.532924            |"
      ]
     },
     "metadata": {},
     "output_type": "display_data"
    },
    {
     "data": {
      "text/html": [
       "<pre>| 3         | 0.541023     | 0.802256          | 0.804604            | 0.503376          | 0.502365            |</pre>"
      ],
      "text/plain": [
       "| 3         | 0.541023     | 0.802256          | 0.804604            | 0.503376          | 0.502365            |"
      ]
     },
     "metadata": {},
     "output_type": "display_data"
    },
    {
     "data": {
      "text/html": [
       "<pre>| 4         | 0.722598     | 0.802256          | 0.804604            | 0.486180          | 0.485062            |</pre>"
      ],
      "text/plain": [
       "| 4         | 0.722598     | 0.802256          | 0.804604            | 0.486180          | 0.485062            |"
      ]
     },
     "metadata": {},
     "output_type": "display_data"
    },
    {
     "data": {
      "text/html": [
       "<pre>| 5         | 0.904106     | 0.802256          | 0.804604            | 0.476471          | 0.475304            |</pre>"
      ],
      "text/plain": [
       "| 5         | 0.904106     | 0.802256          | 0.804604            | 0.476471          | 0.475304            |"
      ]
     },
     "metadata": {},
     "output_type": "display_data"
    },
    {
     "data": {
      "text/html": [
       "<pre>| 10        | 1.765349     | 0.802256          | 0.804604            | 0.465173          | 0.463944            |</pre>"
      ],
      "text/plain": [
       "| 10        | 1.765349     | 0.802256          | 0.804604            | 0.465173          | 0.463944            |"
      ]
     },
     "metadata": {},
     "output_type": "display_data"
    },
    {
     "data": {
      "text/html": [
       "<pre>+-----------+--------------+-------------------+---------------------+-------------------+---------------------+</pre>"
      ],
      "text/plain": [
       "+-----------+--------------+-------------------+---------------------+-------------------+---------------------+"
      ]
     },
     "metadata": {},
     "output_type": "display_data"
    },
    {
     "data": {
      "text/html": [
       "<pre>Random forest classifier:</pre>"
      ],
      "text/plain": [
       "Random forest classifier:"
      ]
     },
     "metadata": {},
     "output_type": "display_data"
    },
    {
     "data": {
      "text/html": [
       "<pre>--------------------------------------------------------</pre>"
      ],
      "text/plain": [
       "--------------------------------------------------------"
      ]
     },
     "metadata": {},
     "output_type": "display_data"
    },
    {
     "data": {
      "text/html": [
       "<pre>Number of examples          : 219971</pre>"
      ],
      "text/plain": [
       "Number of examples          : 219971"
      ]
     },
     "metadata": {},
     "output_type": "display_data"
    },
    {
     "data": {
      "text/html": [
       "<pre>Number of classes           : 2</pre>"
      ],
      "text/plain": [
       "Number of classes           : 2"
      ]
     },
     "metadata": {},
     "output_type": "display_data"
    },
    {
     "data": {
      "text/html": [
       "<pre>Number of feature columns   : 1</pre>"
      ],
      "text/plain": [
       "Number of feature columns   : 1"
      ]
     },
     "metadata": {},
     "output_type": "display_data"
    },
    {
     "data": {
      "text/html": [
       "<pre>Number of unpacked features : 1</pre>"
      ],
      "text/plain": [
       "Number of unpacked features : 1"
      ]
     },
     "metadata": {},
     "output_type": "display_data"
    },
    {
     "data": {
      "text/html": [
       "<pre>+-----------+--------------+-------------------+---------------------+-------------------+---------------------+</pre>"
      ],
      "text/plain": [
       "+-----------+--------------+-------------------+---------------------+-------------------+---------------------+"
      ]
     },
     "metadata": {},
     "output_type": "display_data"
    },
    {
     "data": {
      "text/html": [
       "<pre>| Iteration | Elapsed Time | Training Accuracy | Validation Accuracy | Training Log Loss | Validation Log Loss |</pre>"
      ],
      "text/plain": [
       "| Iteration | Elapsed Time | Training Accuracy | Validation Accuracy | Training Log Loss | Validation Log Loss |"
      ]
     },
     "metadata": {},
     "output_type": "display_data"
    },
    {
     "data": {
      "text/html": [
       "<pre>+-----------+--------------+-------------------+---------------------+-------------------+---------------------+</pre>"
      ],
      "text/plain": [
       "+-----------+--------------+-------------------+---------------------+-------------------+---------------------+"
      ]
     },
     "metadata": {},
     "output_type": "display_data"
    },
    {
     "data": {
      "text/html": [
       "<pre>| 1         | 0.187005     | 0.802256          | 0.804604            | 0.472707          | 0.471348            |</pre>"
      ],
      "text/plain": [
       "| 1         | 0.187005     | 0.802256          | 0.804604            | 0.472707          | 0.471348            |"
      ]
     },
     "metadata": {},
     "output_type": "display_data"
    },
    {
     "data": {
      "text/html": [
       "<pre>| 2         | 0.365931     | 0.802256          | 0.804604            | 0.472683          | 0.471347            |</pre>"
      ],
      "text/plain": [
       "| 2         | 0.365931     | 0.802256          | 0.804604            | 0.472683          | 0.471347            |"
      ]
     },
     "metadata": {},
     "output_type": "display_data"
    },
    {
     "data": {
      "text/html": [
       "<pre>| 3         | 0.550098     | 0.802256          | 0.804604            | 0.472638          | 0.471241            |</pre>"
      ],
      "text/plain": [
       "| 3         | 0.550098     | 0.802256          | 0.804604            | 0.472638          | 0.471241            |"
      ]
     },
     "metadata": {},
     "output_type": "display_data"
    },
    {
     "data": {
      "text/html": [
       "<pre>| 4         | 0.720774     | 0.802256          | 0.804604            | 0.472618          | 0.471221            |</pre>"
      ],
      "text/plain": [
       "| 4         | 0.720774     | 0.802256          | 0.804604            | 0.472618          | 0.471221            |"
      ]
     },
     "metadata": {},
     "output_type": "display_data"
    },
    {
     "data": {
      "text/html": [
       "<pre>| 5         | 0.901959     | 0.802256          | 0.804604            | 0.472606          | 0.471209            |</pre>"
      ],
      "text/plain": [
       "| 5         | 0.901959     | 0.802256          | 0.804604            | 0.472606          | 0.471209            |"
      ]
     },
     "metadata": {},
     "output_type": "display_data"
    },
    {
     "data": {
      "text/html": [
       "<pre>| 10        | 1.820619     | 0.802256          | 0.804604            | 0.472591          | 0.471184            |</pre>"
      ],
      "text/plain": [
       "| 10        | 1.820619     | 0.802256          | 0.804604            | 0.472591          | 0.471184            |"
      ]
     },
     "metadata": {},
     "output_type": "display_data"
    },
    {
     "data": {
      "text/html": [
       "<pre>+-----------+--------------+-------------------+---------------------+-------------------+---------------------+</pre>"
      ],
      "text/plain": [
       "+-----------+--------------+-------------------+---------------------+-------------------+---------------------+"
      ]
     },
     "metadata": {},
     "output_type": "display_data"
    },
    {
     "data": {
      "text/html": [
       "<pre>Decision tree classifier:</pre>"
      ],
      "text/plain": [
       "Decision tree classifier:"
      ]
     },
     "metadata": {},
     "output_type": "display_data"
    },
    {
     "data": {
      "text/html": [
       "<pre>--------------------------------------------------------</pre>"
      ],
      "text/plain": [
       "--------------------------------------------------------"
      ]
     },
     "metadata": {},
     "output_type": "display_data"
    },
    {
     "data": {
      "text/html": [
       "<pre>Number of examples          : 219971</pre>"
      ],
      "text/plain": [
       "Number of examples          : 219971"
      ]
     },
     "metadata": {},
     "output_type": "display_data"
    },
    {
     "data": {
      "text/html": [
       "<pre>Number of classes           : 2</pre>"
      ],
      "text/plain": [
       "Number of classes           : 2"
      ]
     },
     "metadata": {},
     "output_type": "display_data"
    },
    {
     "data": {
      "text/html": [
       "<pre>Number of feature columns   : 1</pre>"
      ],
      "text/plain": [
       "Number of feature columns   : 1"
      ]
     },
     "metadata": {},
     "output_type": "display_data"
    },
    {
     "data": {
      "text/html": [
       "<pre>Number of unpacked features : 1</pre>"
      ],
      "text/plain": [
       "Number of unpacked features : 1"
      ]
     },
     "metadata": {},
     "output_type": "display_data"
    },
    {
     "data": {
      "text/html": [
       "<pre>+-----------+--------------+-------------------+---------------------+-------------------+---------------------+</pre>"
      ],
      "text/plain": [
       "+-----------+--------------+-------------------+---------------------+-------------------+---------------------+"
      ]
     },
     "metadata": {},
     "output_type": "display_data"
    },
    {
     "data": {
      "text/html": [
       "<pre>| Iteration | Elapsed Time | Training Accuracy | Validation Accuracy | Training Log Loss | Validation Log Loss |</pre>"
      ],
      "text/plain": [
       "| Iteration | Elapsed Time | Training Accuracy | Validation Accuracy | Training Log Loss | Validation Log Loss |"
      ]
     },
     "metadata": {},
     "output_type": "display_data"
    },
    {
     "data": {
      "text/html": [
       "<pre>+-----------+--------------+-------------------+---------------------+-------------------+---------------------+</pre>"
      ],
      "text/plain": [
       "+-----------+--------------+-------------------+---------------------+-------------------+---------------------+"
      ]
     },
     "metadata": {},
     "output_type": "display_data"
    },
    {
     "data": {
      "text/html": [
       "<pre>| 1         | 0.188906     | 0.802256          | 0.804604            | 0.472638          | 0.471268            |</pre>"
      ],
      "text/plain": [
       "| 1         | 0.188906     | 0.802256          | 0.804604            | 0.472638          | 0.471268            |"
      ]
     },
     "metadata": {},
     "output_type": "display_data"
    },
    {
     "data": {
      "text/html": [
       "<pre>+-----------+--------------+-------------------+---------------------+-------------------+---------------------+</pre>"
      ],
      "text/plain": [
       "+-----------+--------------+-------------------+---------------------+-------------------+---------------------+"
      ]
     },
     "metadata": {},
     "output_type": "display_data"
    },
    {
     "data": {
      "text/html": [
       "<pre>SVM:</pre>"
      ],
      "text/plain": [
       "SVM:"
      ]
     },
     "metadata": {},
     "output_type": "display_data"
    },
    {
     "data": {
      "text/html": [
       "<pre>--------------------------------------------------------</pre>"
      ],
      "text/plain": [
       "--------------------------------------------------------"
      ]
     },
     "metadata": {},
     "output_type": "display_data"
    },
    {
     "data": {
      "text/html": [
       "<pre>Number of examples          : 219971</pre>"
      ],
      "text/plain": [
       "Number of examples          : 219971"
      ]
     },
     "metadata": {},
     "output_type": "display_data"
    },
    {
     "data": {
      "text/html": [
       "<pre>Number of classes           : 2</pre>"
      ],
      "text/plain": [
       "Number of classes           : 2"
      ]
     },
     "metadata": {},
     "output_type": "display_data"
    },
    {
     "data": {
      "text/html": [
       "<pre>Number of feature columns   : 1</pre>"
      ],
      "text/plain": [
       "Number of feature columns   : 1"
      ]
     },
     "metadata": {},
     "output_type": "display_data"
    },
    {
     "data": {
      "text/html": [
       "<pre>Number of unpacked features : 1</pre>"
      ],
      "text/plain": [
       "Number of unpacked features : 1"
      ]
     },
     "metadata": {},
     "output_type": "display_data"
    },
    {
     "data": {
      "text/html": [
       "<pre>Number of coefficients    : 2</pre>"
      ],
      "text/plain": [
       "Number of coefficients    : 2"
      ]
     },
     "metadata": {},
     "output_type": "display_data"
    },
    {
     "data": {
      "text/html": [
       "<pre>Starting L-BFGS</pre>"
      ],
      "text/plain": [
       "Starting L-BFGS"
      ]
     },
     "metadata": {},
     "output_type": "display_data"
    },
    {
     "data": {
      "text/html": [
       "<pre>--------------------------------------------------------</pre>"
      ],
      "text/plain": [
       "--------------------------------------------------------"
      ]
     },
     "metadata": {},
     "output_type": "display_data"
    },
    {
     "data": {
      "text/html": [
       "<pre>+-----------+----------+-----------+--------------+-------------------+---------------------+</pre>"
      ],
      "text/plain": [
       "+-----------+----------+-----------+--------------+-------------------+---------------------+"
      ]
     },
     "metadata": {},
     "output_type": "display_data"
    },
    {
     "data": {
      "text/html": [
       "<pre>| Iteration | Passes   | Step size | Elapsed Time | Training Accuracy | Validation Accuracy |</pre>"
      ],
      "text/plain": [
       "| Iteration | Passes   | Step size | Elapsed Time | Training Accuracy | Validation Accuracy |"
      ]
     },
     "metadata": {},
     "output_type": "display_data"
    },
    {
     "data": {
      "text/html": [
       "<pre>+-----------+----------+-----------+--------------+-------------------+---------------------+</pre>"
      ],
      "text/plain": [
       "+-----------+----------+-----------+--------------+-------------------+---------------------+"
      ]
     },
     "metadata": {},
     "output_type": "display_data"
    },
    {
     "data": {
      "text/html": [
       "<pre>| 0         | 3        | 5.000000  | 0.094557     | 0.781067          | 0.782544            |</pre>"
      ],
      "text/plain": [
       "| 0         | 3        | 5.000000  | 0.094557     | 0.781067          | 0.782544            |"
      ]
     },
     "metadata": {},
     "output_type": "display_data"
    },
    {
     "data": {
      "text/html": [
       "<pre>| 1         | 6        | 2.500000  | 0.219157     | 0.787754          | 0.788909            |</pre>"
      ],
      "text/plain": [
       "| 1         | 6        | 2.500000  | 0.219157     | 0.787754          | 0.788909            |"
      ]
     },
     "metadata": {},
     "output_type": "display_data"
    },
    {
     "data": {
      "text/html": [
       "<pre>| 2         | 7        | 2.500000  | 0.294384     | 0.219852          | 0.218676            |</pre>"
      ],
      "text/plain": [
       "| 2         | 7        | 2.500000  | 0.294384     | 0.219852          | 0.218676            |"
      ]
     },
     "metadata": {},
     "output_type": "display_data"
    },
    {
     "data": {
      "text/html": [
       "<pre>| 3         | 11       | 0.576025  | 0.450498     | 0.785804          | 0.786817            |</pre>"
      ],
      "text/plain": [
       "| 3         | 11       | 0.576025  | 0.450498     | 0.785804          | 0.786817            |"
      ]
     },
     "metadata": {},
     "output_type": "display_data"
    },
    {
     "data": {
      "text/html": [
       "<pre>| 4         | 12       | 0.720032  | 0.522506     | 0.779848          | 0.780975            |</pre>"
      ],
      "text/plain": [
       "| 4         | 12       | 0.720032  | 0.522506     | 0.779848          | 0.780975            |"
      ]
     },
     "metadata": {},
     "output_type": "display_data"
    },
    {
     "data": {
      "text/html": [
       "<pre>| 9         | 29       | 0.811958  | 1.204695     | 0.779462          | 0.780452            |</pre>"
      ],
      "text/plain": [
       "| 9         | 29       | 0.811958  | 1.204695     | 0.779462          | 0.780452            |"
      ]
     },
     "metadata": {},
     "output_type": "display_data"
    },
    {
     "data": {
      "text/html": [
       "<pre>+-----------+----------+-----------+--------------+-------------------+---------------------+</pre>"
      ],
      "text/plain": [
       "+-----------+----------+-----------+--------------+-------------------+---------------------+"
      ]
     },
     "metadata": {},
     "output_type": "display_data"
    },
    {
     "data": {
      "text/html": [
       "<pre>Logistic regression:</pre>"
      ],
      "text/plain": [
       "Logistic regression:"
      ]
     },
     "metadata": {},
     "output_type": "display_data"
    },
    {
     "data": {
      "text/html": [
       "<pre>--------------------------------------------------------</pre>"
      ],
      "text/plain": [
       "--------------------------------------------------------"
      ]
     },
     "metadata": {},
     "output_type": "display_data"
    },
    {
     "data": {
      "text/html": [
       "<pre>Number of examples          : 219971</pre>"
      ],
      "text/plain": [
       "Number of examples          : 219971"
      ]
     },
     "metadata": {},
     "output_type": "display_data"
    },
    {
     "data": {
      "text/html": [
       "<pre>Number of classes           : 2</pre>"
      ],
      "text/plain": [
       "Number of classes           : 2"
      ]
     },
     "metadata": {},
     "output_type": "display_data"
    },
    {
     "data": {
      "text/html": [
       "<pre>Number of feature columns   : 1</pre>"
      ],
      "text/plain": [
       "Number of feature columns   : 1"
      ]
     },
     "metadata": {},
     "output_type": "display_data"
    },
    {
     "data": {
      "text/html": [
       "<pre>Number of unpacked features : 1</pre>"
      ],
      "text/plain": [
       "Number of unpacked features : 1"
      ]
     },
     "metadata": {},
     "output_type": "display_data"
    },
    {
     "data": {
      "text/html": [
       "<pre>Number of coefficients      : 2</pre>"
      ],
      "text/plain": [
       "Number of coefficients      : 2"
      ]
     },
     "metadata": {},
     "output_type": "display_data"
    },
    {
     "data": {
      "text/html": [
       "<pre>Starting Newton Method</pre>"
      ],
      "text/plain": [
       "Starting Newton Method"
      ]
     },
     "metadata": {},
     "output_type": "display_data"
    },
    {
     "data": {
      "text/html": [
       "<pre>--------------------------------------------------------</pre>"
      ],
      "text/plain": [
       "--------------------------------------------------------"
      ]
     },
     "metadata": {},
     "output_type": "display_data"
    },
    {
     "data": {
      "text/html": [
       "<pre>+-----------+----------+--------------+-------------------+---------------------+</pre>"
      ],
      "text/plain": [
       "+-----------+----------+--------------+-------------------+---------------------+"
      ]
     },
     "metadata": {},
     "output_type": "display_data"
    },
    {
     "data": {
      "text/html": [
       "<pre>| Iteration | Passes   | Elapsed Time | Training Accuracy | Validation Accuracy |</pre>"
      ],
      "text/plain": [
       "| Iteration | Passes   | Elapsed Time | Training Accuracy | Validation Accuracy |"
      ]
     },
     "metadata": {},
     "output_type": "display_data"
    },
    {
     "data": {
      "text/html": [
       "<pre>+-----------+----------+--------------+-------------------+---------------------+</pre>"
      ],
      "text/plain": [
       "+-----------+----------+--------------+-------------------+---------------------+"
      ]
     },
     "metadata": {},
     "output_type": "display_data"
    },
    {
     "data": {
      "text/html": [
       "<pre>| 1         | 2        | 0.080987     | 0.781067          | 0.782544            |</pre>"
      ],
      "text/plain": [
       "| 1         | 2        | 0.080987     | 0.781067          | 0.782544            |"
      ]
     },
     "metadata": {},
     "output_type": "display_data"
    },
    {
     "data": {
      "text/html": [
       "<pre>| 2         | 3        | 0.156446     | 0.787754          | 0.788909            |</pre>"
      ],
      "text/plain": [
       "| 2         | 3        | 0.156446     | 0.787754          | 0.788909            |"
      ]
     },
     "metadata": {},
     "output_type": "display_data"
    },
    {
     "data": {
      "text/html": [
       "<pre>| 3         | 4        | 0.229028     | 0.790609          | 0.790304            |</pre>"
      ],
      "text/plain": [
       "| 3         | 4        | 0.229028     | 0.790609          | 0.790304            |"
      ]
     },
     "metadata": {},
     "output_type": "display_data"
    },
    {
     "data": {
      "text/html": [
       "<pre>| 4         | 5        | 0.303474     | 0.790609          | 0.790304            |</pre>"
      ],
      "text/plain": [
       "| 4         | 5        | 0.303474     | 0.790609          | 0.790304            |"
      ]
     },
     "metadata": {},
     "output_type": "display_data"
    },
    {
     "data": {
      "text/html": [
       "<pre>| 5         | 6        | 0.390135     | 0.790609          | 0.790304            |</pre>"
      ],
      "text/plain": [
       "| 5         | 6        | 0.390135     | 0.790609          | 0.790304            |"
      ]
     },
     "metadata": {},
     "output_type": "display_data"
    },
    {
     "data": {
      "text/html": [
       "<pre>+-----------+----------+--------------+-------------------+---------------------+</pre>"
      ],
      "text/plain": [
       "+-----------+----------+--------------+-------------------+---------------------+"
      ]
     },
     "metadata": {},
     "output_type": "display_data"
    },
    {
     "data": {
      "text/html": [
       "<pre>SUCCESS: Optimal solution found.</pre>"
      ],
      "text/plain": [
       "SUCCESS: Optimal solution found."
      ]
     },
     "metadata": {},
     "output_type": "display_data"
    },
    {
     "data": {
      "text/html": [
       "<pre></pre>"
      ],
      "text/plain": []
     },
     "metadata": {},
     "output_type": "display_data"
    },
    {
     "name": "stdout",
     "output_type": "stream",
     "text": [
      "PROGRESS: Model selection based on validation accuracy:\n",
      "PROGRESS: ---------------------------------------------\n",
      "PROGRESS: BoostedTreesClassifier          : 0.8046037143604499\n",
      "PROGRESS: RandomForestClassifier          : 0.8046037143604499\n",
      "PROGRESS: DecisionTreeClassifier          : 0.8046037143604499\n",
      "PROGRESS: SVMClassifier                   : 0.7804516522800593\n",
      "PROGRESS: LogisticClassifier              : 0.7903042985439009\n",
      "PROGRESS: ---------------------------------------------\n",
      "PROGRESS: Selecting BoostedTreesClassifier based on validation set performance.\n",
      "PROGRESS: Creating a validation set from 5 percent of training data. This may take a while.\n",
      "          You can set ``validation_set=None`` to disable validation tracking.\n",
      "\n",
      "PROGRESS: The following methods are available for this type of problem.\n",
      "PROGRESS: BoostedTreesClassifier, RandomForestClassifier, DecisionTreeClassifier, SVMClassifier, LogisticClassifier\n",
      "PROGRESS: The returned model will be chosen according to validation accuracy.\n"
     ]
    },
    {
     "data": {
      "text/html": [
       "<pre>Boosted trees classifier:</pre>"
      ],
      "text/plain": [
       "Boosted trees classifier:"
      ]
     },
     "metadata": {},
     "output_type": "display_data"
    },
    {
     "data": {
      "text/html": [
       "<pre>--------------------------------------------------------</pre>"
      ],
      "text/plain": [
       "--------------------------------------------------------"
      ]
     },
     "metadata": {},
     "output_type": "display_data"
    },
    {
     "data": {
      "text/html": [
       "<pre>Number of examples          : 219910</pre>"
      ],
      "text/plain": [
       "Number of examples          : 219910"
      ]
     },
     "metadata": {},
     "output_type": "display_data"
    },
    {
     "data": {
      "text/html": [
       "<pre>Number of classes           : 2</pre>"
      ],
      "text/plain": [
       "Number of classes           : 2"
      ]
     },
     "metadata": {},
     "output_type": "display_data"
    },
    {
     "data": {
      "text/html": [
       "<pre>Number of feature columns   : 1</pre>"
      ],
      "text/plain": [
       "Number of feature columns   : 1"
      ]
     },
     "metadata": {},
     "output_type": "display_data"
    },
    {
     "data": {
      "text/html": [
       "<pre>Number of unpacked features : 1</pre>"
      ],
      "text/plain": [
       "Number of unpacked features : 1"
      ]
     },
     "metadata": {},
     "output_type": "display_data"
    },
    {
     "data": {
      "text/html": [
       "<pre>+-----------+--------------+-------------------+---------------------+-------------------+---------------------+</pre>"
      ],
      "text/plain": [
       "+-----------+--------------+-------------------+---------------------+-------------------+---------------------+"
      ]
     },
     "metadata": {},
     "output_type": "display_data"
    },
    {
     "data": {
      "text/html": [
       "<pre>| Iteration | Elapsed Time | Training Accuracy | Validation Accuracy | Training Log Loss | Validation Log Loss |</pre>"
      ],
      "text/plain": [
       "| Iteration | Elapsed Time | Training Accuracy | Validation Accuracy | Training Log Loss | Validation Log Loss |"
      ]
     },
     "metadata": {},
     "output_type": "display_data"
    },
    {
     "data": {
      "text/html": [
       "<pre>+-----------+--------------+-------------------+---------------------+-------------------+---------------------+</pre>"
      ],
      "text/plain": [
       "+-----------+--------------+-------------------+---------------------+-------------------+---------------------+"
      ]
     },
     "metadata": {},
     "output_type": "display_data"
    },
    {
     "data": {
      "text/html": [
       "<pre>| 1         | 0.198346     | 0.807139          | 0.810147            | 0.579420          | 0.578715            |</pre>"
      ],
      "text/plain": [
       "| 1         | 0.198346     | 0.807139          | 0.810147            | 0.579420          | 0.578715            |"
      ]
     },
     "metadata": {},
     "output_type": "display_data"
    },
    {
     "data": {
      "text/html": [
       "<pre>| 2         | 0.374701     | 0.807230          | 0.810494            | 0.519247          | 0.517956            |</pre>"
      ],
      "text/plain": [
       "| 2         | 0.374701     | 0.807230          | 0.810494            | 0.519247          | 0.517956            |"
      ]
     },
     "metadata": {},
     "output_type": "display_data"
    },
    {
     "data": {
      "text/html": [
       "<pre>| 3         | 0.550470     | 0.807485          | 0.811101            | 0.484586          | 0.482985            |</pre>"
      ],
      "text/plain": [
       "| 3         | 0.550470     | 0.807485          | 0.811101            | 0.484586          | 0.482985            |"
      ]
     },
     "metadata": {},
     "output_type": "display_data"
    },
    {
     "data": {
      "text/html": [
       "<pre>| 4         | 0.735228     | 0.807580          | 0.811188            | 0.463994          | 0.462160            |</pre>"
      ],
      "text/plain": [
       "| 4         | 0.735228     | 0.807580          | 0.811188            | 0.463994          | 0.462160            |"
      ]
     },
     "metadata": {},
     "output_type": "display_data"
    },
    {
     "data": {
      "text/html": [
       "<pre>| 5         | 0.914400     | 0.807398          | 0.810841            | 0.451639          | 0.449660            |</pre>"
      ],
      "text/plain": [
       "| 5         | 0.914400     | 0.807398          | 0.810841            | 0.451639          | 0.449660            |"
      ]
     },
     "metadata": {},
     "output_type": "display_data"
    },
    {
     "data": {
      "text/html": [
       "<pre>| 10        | 1.796726     | 0.808017          | 0.811188            | 0.434230          | 0.432533            |</pre>"
      ],
      "text/plain": [
       "| 10        | 1.796726     | 0.808017          | 0.811188            | 0.434230          | 0.432533            |"
      ]
     },
     "metadata": {},
     "output_type": "display_data"
    },
    {
     "data": {
      "text/html": [
       "<pre>+-----------+--------------+-------------------+---------------------+-------------------+---------------------+</pre>"
      ],
      "text/plain": [
       "+-----------+--------------+-------------------+---------------------+-------------------+---------------------+"
      ]
     },
     "metadata": {},
     "output_type": "display_data"
    },
    {
     "data": {
      "text/html": [
       "<pre>Random forest classifier:</pre>"
      ],
      "text/plain": [
       "Random forest classifier:"
      ]
     },
     "metadata": {},
     "output_type": "display_data"
    },
    {
     "data": {
      "text/html": [
       "<pre>--------------------------------------------------------</pre>"
      ],
      "text/plain": [
       "--------------------------------------------------------"
      ]
     },
     "metadata": {},
     "output_type": "display_data"
    },
    {
     "data": {
      "text/html": [
       "<pre>Number of examples          : 219910</pre>"
      ],
      "text/plain": [
       "Number of examples          : 219910"
      ]
     },
     "metadata": {},
     "output_type": "display_data"
    },
    {
     "data": {
      "text/html": [
       "<pre>Number of classes           : 2</pre>"
      ],
      "text/plain": [
       "Number of classes           : 2"
      ]
     },
     "metadata": {},
     "output_type": "display_data"
    },
    {
     "data": {
      "text/html": [
       "<pre>Number of feature columns   : 1</pre>"
      ],
      "text/plain": [
       "Number of feature columns   : 1"
      ]
     },
     "metadata": {},
     "output_type": "display_data"
    },
    {
     "data": {
      "text/html": [
       "<pre>Number of unpacked features : 1</pre>"
      ],
      "text/plain": [
       "Number of unpacked features : 1"
      ]
     },
     "metadata": {},
     "output_type": "display_data"
    },
    {
     "data": {
      "text/html": [
       "<pre>+-----------+--------------+-------------------+---------------------+-------------------+---------------------+</pre>"
      ],
      "text/plain": [
       "+-----------+--------------+-------------------+---------------------+-------------------+---------------------+"
      ]
     },
     "metadata": {},
     "output_type": "display_data"
    },
    {
     "data": {
      "text/html": [
       "<pre>| Iteration | Elapsed Time | Training Accuracy | Validation Accuracy | Training Log Loss | Validation Log Loss |</pre>"
      ],
      "text/plain": [
       "| Iteration | Elapsed Time | Training Accuracy | Validation Accuracy | Training Log Loss | Validation Log Loss |"
      ]
     },
     "metadata": {},
     "output_type": "display_data"
    },
    {
     "data": {
      "text/html": [
       "<pre>+-----------+--------------+-------------------+---------------------+-------------------+---------------------+</pre>"
      ],
      "text/plain": [
       "+-----------+--------------+-------------------+---------------------+-------------------+---------------------+"
      ]
     },
     "metadata": {},
     "output_type": "display_data"
    },
    {
     "data": {
      "text/html": [
       "<pre>| 1         | 0.212723     | 0.807176          | 0.809887            | 0.450912          | 0.448482            |</pre>"
      ],
      "text/plain": [
       "| 1         | 0.212723     | 0.807176          | 0.809887            | 0.450912          | 0.448482            |"
      ]
     },
     "metadata": {},
     "output_type": "display_data"
    },
    {
     "data": {
      "text/html": [
       "<pre>| 2         | 0.399322     | 0.807271          | 0.810061            | 0.450587          | 0.448392            |</pre>"
      ],
      "text/plain": [
       "| 2         | 0.399322     | 0.807271          | 0.810061            | 0.450587          | 0.448392            |"
      ]
     },
     "metadata": {},
     "output_type": "display_data"
    },
    {
     "data": {
      "text/html": [
       "<pre>| 3         | 0.585364     | 0.807258          | 0.810061            | 0.450539          | 0.448531            |</pre>"
      ],
      "text/plain": [
       "| 3         | 0.585364     | 0.807258          | 0.810061            | 0.450539          | 0.448531            |"
      ]
     },
     "metadata": {},
     "output_type": "display_data"
    },
    {
     "data": {
      "text/html": [
       "<pre>| 4         | 0.771199     | 0.807167          | 0.810494            | 0.450522          | 0.448501            |</pre>"
      ],
      "text/plain": [
       "| 4         | 0.771199     | 0.807167          | 0.810494            | 0.450522          | 0.448501            |"
      ]
     },
     "metadata": {},
     "output_type": "display_data"
    },
    {
     "data": {
      "text/html": [
       "<pre>| 5         | 0.966573     | 0.807285          | 0.809974            | 0.450471          | 0.448510            |</pre>"
      ],
      "text/plain": [
       "| 5         | 0.966573     | 0.807285          | 0.809974            | 0.450471          | 0.448510            |"
      ]
     },
     "metadata": {},
     "output_type": "display_data"
    },
    {
     "data": {
      "text/html": [
       "<pre>| 10        | 1.908447     | 0.807571          | 0.810668            | 0.450405          | 0.448366            |</pre>"
      ],
      "text/plain": [
       "| 10        | 1.908447     | 0.807571          | 0.810668            | 0.450405          | 0.448366            |"
      ]
     },
     "metadata": {},
     "output_type": "display_data"
    },
    {
     "data": {
      "text/html": [
       "<pre>+-----------+--------------+-------------------+---------------------+-------------------+---------------------+</pre>"
      ],
      "text/plain": [
       "+-----------+--------------+-------------------+---------------------+-------------------+---------------------+"
      ]
     },
     "metadata": {},
     "output_type": "display_data"
    },
    {
     "data": {
      "text/html": [
       "<pre>Decision tree classifier:</pre>"
      ],
      "text/plain": [
       "Decision tree classifier:"
      ]
     },
     "metadata": {},
     "output_type": "display_data"
    },
    {
     "data": {
      "text/html": [
       "<pre>--------------------------------------------------------</pre>"
      ],
      "text/plain": [
       "--------------------------------------------------------"
      ]
     },
     "metadata": {},
     "output_type": "display_data"
    },
    {
     "data": {
      "text/html": [
       "<pre>Number of examples          : 219910</pre>"
      ],
      "text/plain": [
       "Number of examples          : 219910"
      ]
     },
     "metadata": {},
     "output_type": "display_data"
    },
    {
     "data": {
      "text/html": [
       "<pre>Number of classes           : 2</pre>"
      ],
      "text/plain": [
       "Number of classes           : 2"
      ]
     },
     "metadata": {},
     "output_type": "display_data"
    },
    {
     "data": {
      "text/html": [
       "<pre>Number of feature columns   : 1</pre>"
      ],
      "text/plain": [
       "Number of feature columns   : 1"
      ]
     },
     "metadata": {},
     "output_type": "display_data"
    },
    {
     "data": {
      "text/html": [
       "<pre>Number of unpacked features : 1</pre>"
      ],
      "text/plain": [
       "Number of unpacked features : 1"
      ]
     },
     "metadata": {},
     "output_type": "display_data"
    },
    {
     "data": {
      "text/html": [
       "<pre>+-----------+--------------+-------------------+---------------------+-------------------+---------------------+</pre>"
      ],
      "text/plain": [
       "+-----------+--------------+-------------------+---------------------+-------------------+---------------------+"
      ]
     },
     "metadata": {},
     "output_type": "display_data"
    },
    {
     "data": {
      "text/html": [
       "<pre>| Iteration | Elapsed Time | Training Accuracy | Validation Accuracy | Training Log Loss | Validation Log Loss |</pre>"
      ],
      "text/plain": [
       "| Iteration | Elapsed Time | Training Accuracy | Validation Accuracy | Training Log Loss | Validation Log Loss |"
      ]
     },
     "metadata": {},
     "output_type": "display_data"
    },
    {
     "data": {
      "text/html": [
       "<pre>+-----------+--------------+-------------------+---------------------+-------------------+---------------------+</pre>"
      ],
      "text/plain": [
       "+-----------+--------------+-------------------+---------------------+-------------------+---------------------+"
      ]
     },
     "metadata": {},
     "output_type": "display_data"
    },
    {
     "data": {
      "text/html": [
       "<pre>| 1         | 0.199117     | 0.807139          | 0.810147            | 0.450781          | 0.449034            |</pre>"
      ],
      "text/plain": [
       "| 1         | 0.199117     | 0.807139          | 0.810147            | 0.450781          | 0.449034            |"
      ]
     },
     "metadata": {},
     "output_type": "display_data"
    },
    {
     "data": {
      "text/html": [
       "<pre>+-----------+--------------+-------------------+---------------------+-------------------+---------------------+</pre>"
      ],
      "text/plain": [
       "+-----------+--------------+-------------------+---------------------+-------------------+---------------------+"
      ]
     },
     "metadata": {},
     "output_type": "display_data"
    },
    {
     "data": {
      "text/html": [
       "<pre>SVM:</pre>"
      ],
      "text/plain": [
       "SVM:"
      ]
     },
     "metadata": {},
     "output_type": "display_data"
    },
    {
     "data": {
      "text/html": [
       "<pre>--------------------------------------------------------</pre>"
      ],
      "text/plain": [
       "--------------------------------------------------------"
      ]
     },
     "metadata": {},
     "output_type": "display_data"
    },
    {
     "data": {
      "text/html": [
       "<pre>Number of examples          : 219910</pre>"
      ],
      "text/plain": [
       "Number of examples          : 219910"
      ]
     },
     "metadata": {},
     "output_type": "display_data"
    },
    {
     "data": {
      "text/html": [
       "<pre>Number of classes           : 2</pre>"
      ],
      "text/plain": [
       "Number of classes           : 2"
      ]
     },
     "metadata": {},
     "output_type": "display_data"
    },
    {
     "data": {
      "text/html": [
       "<pre>Number of feature columns   : 1</pre>"
      ],
      "text/plain": [
       "Number of feature columns   : 1"
      ]
     },
     "metadata": {},
     "output_type": "display_data"
    },
    {
     "data": {
      "text/html": [
       "<pre>Number of unpacked features : 1</pre>"
      ],
      "text/plain": [
       "Number of unpacked features : 1"
      ]
     },
     "metadata": {},
     "output_type": "display_data"
    },
    {
     "data": {
      "text/html": [
       "<pre>Number of coefficients    : 2</pre>"
      ],
      "text/plain": [
       "Number of coefficients    : 2"
      ]
     },
     "metadata": {},
     "output_type": "display_data"
    },
    {
     "data": {
      "text/html": [
       "<pre>Starting L-BFGS</pre>"
      ],
      "text/plain": [
       "Starting L-BFGS"
      ]
     },
     "metadata": {},
     "output_type": "display_data"
    },
    {
     "data": {
      "text/html": [
       "<pre>--------------------------------------------------------</pre>"
      ],
      "text/plain": [
       "--------------------------------------------------------"
      ]
     },
     "metadata": {},
     "output_type": "display_data"
    },
    {
     "data": {
      "text/html": [
       "<pre>+-----------+----------+-----------+--------------+-------------------+---------------------+</pre>"
      ],
      "text/plain": [
       "+-----------+----------+-----------+--------------+-------------------+---------------------+"
      ]
     },
     "metadata": {},
     "output_type": "display_data"
    },
    {
     "data": {
      "text/html": [
       "<pre>| Iteration | Passes   | Step size | Elapsed Time | Training Accuracy | Validation Accuracy |</pre>"
      ],
      "text/plain": [
       "| Iteration | Passes   | Step size | Elapsed Time | Training Accuracy | Validation Accuracy |"
      ]
     },
     "metadata": {},
     "output_type": "display_data"
    },
    {
     "data": {
      "text/html": [
       "<pre>+-----------+----------+-----------+--------------+-------------------+---------------------+</pre>"
      ],
      "text/plain": [
       "+-----------+----------+-----------+--------------+-------------------+---------------------+"
      ]
     },
     "metadata": {},
     "output_type": "display_data"
    },
    {
     "data": {
      "text/html": [
       "<pre>| 0         | 3        | 5.000000  | 0.133503     | 0.787368          | 0.787771            |</pre>"
      ],
      "text/plain": [
       "| 0         | 3        | 5.000000  | 0.133503     | 0.787368          | 0.787771            |"
      ]
     },
     "metadata": {},
     "output_type": "display_data"
    },
    {
     "data": {
      "text/html": [
       "<pre>| 1         | 6        | 2.500000  | 0.300985     | 0.798199          | 0.797832            |</pre>"
      ],
      "text/plain": [
       "| 1         | 6        | 2.500000  | 0.300985     | 0.798199          | 0.797832            |"
      ]
     },
     "metadata": {},
     "output_type": "display_data"
    },
    {
     "data": {
      "text/html": [
       "<pre>| 2         | 11       | 0.155940  | 0.535285     | 0.801028          | 0.801648            |</pre>"
      ],
      "text/plain": [
       "| 2         | 11       | 0.155940  | 0.535285     | 0.801028          | 0.801648            |"
      ]
     },
     "metadata": {},
     "output_type": "display_data"
    },
    {
     "data": {
      "text/html": [
       "<pre>| 3         | 12       | 0.194926  | 0.632604     | 0.800909          | 0.801648            |</pre>"
      ],
      "text/plain": [
       "| 3         | 12       | 0.194926  | 0.632604     | 0.800909          | 0.801648            |"
      ]
     },
     "metadata": {},
     "output_type": "display_data"
    },
    {
     "data": {
      "text/html": [
       "<pre>| 4         | 15       | 0.974628  | 0.798239     | 0.798463          | 0.798786            |</pre>"
      ],
      "text/plain": [
       "| 4         | 15       | 0.974628  | 0.798239     | 0.798463          | 0.798786            |"
      ]
     },
     "metadata": {},
     "output_type": "display_data"
    },
    {
     "data": {
      "text/html": [
       "<pre>| 9         | 26       | 0.564338  | 1.456861     | 0.779978          | 0.782394            |</pre>"
      ],
      "text/plain": [
       "| 9         | 26       | 0.564338  | 1.456861     | 0.779978          | 0.782394            |"
      ]
     },
     "metadata": {},
     "output_type": "display_data"
    },
    {
     "data": {
      "text/html": [
       "<pre>+-----------+----------+-----------+--------------+-------------------+---------------------+</pre>"
      ],
      "text/plain": [
       "+-----------+----------+-----------+--------------+-------------------+---------------------+"
      ]
     },
     "metadata": {},
     "output_type": "display_data"
    },
    {
     "data": {
      "text/html": [
       "<pre>Logistic regression:</pre>"
      ],
      "text/plain": [
       "Logistic regression:"
      ]
     },
     "metadata": {},
     "output_type": "display_data"
    },
    {
     "data": {
      "text/html": [
       "<pre>--------------------------------------------------------</pre>"
      ],
      "text/plain": [
       "--------------------------------------------------------"
      ]
     },
     "metadata": {},
     "output_type": "display_data"
    },
    {
     "data": {
      "text/html": [
       "<pre>Number of examples          : 219910</pre>"
      ],
      "text/plain": [
       "Number of examples          : 219910"
      ]
     },
     "metadata": {},
     "output_type": "display_data"
    },
    {
     "data": {
      "text/html": [
       "<pre>Number of classes           : 2</pre>"
      ],
      "text/plain": [
       "Number of classes           : 2"
      ]
     },
     "metadata": {},
     "output_type": "display_data"
    },
    {
     "data": {
      "text/html": [
       "<pre>Number of feature columns   : 1</pre>"
      ],
      "text/plain": [
       "Number of feature columns   : 1"
      ]
     },
     "metadata": {},
     "output_type": "display_data"
    },
    {
     "data": {
      "text/html": [
       "<pre>Number of unpacked features : 1</pre>"
      ],
      "text/plain": [
       "Number of unpacked features : 1"
      ]
     },
     "metadata": {},
     "output_type": "display_data"
    },
    {
     "data": {
      "text/html": [
       "<pre>Number of coefficients      : 2</pre>"
      ],
      "text/plain": [
       "Number of coefficients      : 2"
      ]
     },
     "metadata": {},
     "output_type": "display_data"
    },
    {
     "data": {
      "text/html": [
       "<pre>Starting Newton Method</pre>"
      ],
      "text/plain": [
       "Starting Newton Method"
      ]
     },
     "metadata": {},
     "output_type": "display_data"
    },
    {
     "data": {
      "text/html": [
       "<pre>--------------------------------------------------------</pre>"
      ],
      "text/plain": [
       "--------------------------------------------------------"
      ]
     },
     "metadata": {},
     "output_type": "display_data"
    },
    {
     "data": {
      "text/html": [
       "<pre>+-----------+----------+--------------+-------------------+---------------------+</pre>"
      ],
      "text/plain": [
       "+-----------+----------+--------------+-------------------+---------------------+"
      ]
     },
     "metadata": {},
     "output_type": "display_data"
    },
    {
     "data": {
      "text/html": [
       "<pre>| Iteration | Passes   | Elapsed Time | Training Accuracy | Validation Accuracy |</pre>"
      ],
      "text/plain": [
       "| Iteration | Passes   | Elapsed Time | Training Accuracy | Validation Accuracy |"
      ]
     },
     "metadata": {},
     "output_type": "display_data"
    },
    {
     "data": {
      "text/html": [
       "<pre>+-----------+----------+--------------+-------------------+---------------------+</pre>"
      ],
      "text/plain": [
       "+-----------+----------+--------------+-------------------+---------------------+"
      ]
     },
     "metadata": {},
     "output_type": "display_data"
    },
    {
     "data": {
      "text/html": [
       "<pre>| 1         | 2        | 0.090066     | 0.796567          | 0.796878            |</pre>"
      ],
      "text/plain": [
       "| 1         | 2        | 0.090066     | 0.796567          | 0.796878            |"
      ]
     },
     "metadata": {},
     "output_type": "display_data"
    },
    {
     "data": {
      "text/html": [
       "<pre>| 2         | 3        | 0.178980     | 0.803983          | 0.805984            |</pre>"
      ],
      "text/plain": [
       "| 2         | 3        | 0.178980     | 0.803983          | 0.805984            |"
      ]
     },
     "metadata": {},
     "output_type": "display_data"
    },
    {
     "data": {
      "text/html": [
       "<pre>| 3         | 4        | 0.285064     | 0.805393          | 0.807459            |</pre>"
      ],
      "text/plain": [
       "| 3         | 4        | 0.285064     | 0.805393          | 0.807459            |"
      ]
     },
     "metadata": {},
     "output_type": "display_data"
    },
    {
     "data": {
      "text/html": [
       "<pre>| 4         | 5        | 0.374735     | 0.805398          | 0.807546            |</pre>"
      ],
      "text/plain": [
       "| 4         | 5        | 0.374735     | 0.805398          | 0.807546            |"
      ]
     },
     "metadata": {},
     "output_type": "display_data"
    },
    {
     "data": {
      "text/html": [
       "<pre>| 5         | 6        | 0.462502     | 0.805379          | 0.807546            |</pre>"
      ],
      "text/plain": [
       "| 5         | 6        | 0.462502     | 0.805379          | 0.807546            |"
      ]
     },
     "metadata": {},
     "output_type": "display_data"
    },
    {
     "data": {
      "text/html": [
       "<pre>+-----------+----------+--------------+-------------------+---------------------+</pre>"
      ],
      "text/plain": [
       "+-----------+----------+--------------+-------------------+---------------------+"
      ]
     },
     "metadata": {},
     "output_type": "display_data"
    },
    {
     "data": {
      "text/html": [
       "<pre>SUCCESS: Optimal solution found.</pre>"
      ],
      "text/plain": [
       "SUCCESS: Optimal solution found."
      ]
     },
     "metadata": {},
     "output_type": "display_data"
    },
    {
     "data": {
      "text/html": [
       "<pre></pre>"
      ],
      "text/plain": []
     },
     "metadata": {},
     "output_type": "display_data"
    },
    {
     "name": "stdout",
     "output_type": "stream",
     "text": [
      "PROGRESS: Model selection based on validation accuracy:\n",
      "PROGRESS: ---------------------------------------------\n",
      "PROGRESS: BoostedTreesClassifier          : 0.8111882046834346\n",
      "PROGRESS: RandomForestClassifier          : 0.8106678230702515\n",
      "PROGRESS: DecisionTreeClassifier          : 0.8101474414570685\n",
      "PROGRESS: SVMClassifier                   : 0.7823937554206418\n",
      "PROGRESS: LogisticClassifier              : 0.8075455333911535\n",
      "PROGRESS: ---------------------------------------------\n",
      "PROGRESS: Selecting BoostedTreesClassifier based on validation set performance.\n"
     ]
    }
   ],
   "source": [
    "def label2sentiment(label):\n",
    "    if label >= 4:\n",
    "        return \"Positive\"\n",
    "    else:\n",
    "        return \"Negative\"\n",
    "afinn = Afinn()\n",
    "\n",
    "sf_amazon = tc.SFrame.read_csv(\"./Reviews.csv\")\n",
    "sf_amazon['Sentiment'] = sf_amazon['Score'].apply(lambda label: label2sentiment(label))\n",
    "sf_amazon['afinn_score'] = sf_amazon['Text'].apply(lambda t: afinn.score(t))\n",
    "sf_amazon['blob'] = sf_amazon['Text'].apply(lambda t: TextBlob(t).sentiment.polarity)\n",
    "sf_amazon.materialize()\n",
    "\n",
    "train, test = sf_amazon.random_split(0.8)\n",
    "cls1 = tc.classifier.create(train, features=['afinn_score'], target=\"Sentiment\")\n",
    "res1 = cls1.evaluate(test)\n",
    "cls2 = tc.classifier.create(train, features=['blob'], target=\"Sentiment\")\n",
    "res2 = cls2.evaluate(test)\n"
   ]
  },
  {
   "cell_type": "code",
   "execution_count": 28,
   "metadata": {},
   "outputs": [
    {
     "name": "stdout",
     "output_type": "stream",
     "text": [
      "{'accuracy': 0.8046048645373496, 'auc': 0.7133942205370578, 'confusion_matrix': Columns:\n",
      "\ttarget_label\tstr\n",
      "\tpredicted_label\tstr\n",
      "\tcount\tint\n",
      "\n",
      "Rows: 4\n",
      "\n",
      "Data:\n",
      "+--------------+-----------------+-------+\n",
      "| target_label | predicted_label | count |\n",
      "+--------------+-----------------+-------+\n",
      "|   Negative   |     Negative    |  3032 |\n",
      "|   Positive   |     Negative    |  1692 |\n",
      "|   Negative   |     Positive    |  9595 |\n",
      "|   Positive   |     Positive    | 43446 |\n",
      "+--------------+-----------------+-------+\n",
      "[4 rows x 3 columns]\n",
      ", 'f1_score': 0.8850365149370027, 'log_loss': 0.4632535247751632, 'precision': 0.8191022039554307, 'recall': 0.9625149541406354, 'roc_curve': Columns:\n",
      "\tthreshold\tfloat\n",
      "\tfpr\tfloat\n",
      "\ttpr\tfloat\n",
      "\tp\tint\n",
      "\tn\tint\n",
      "\n",
      "Rows: 100001\n",
      "\n",
      "Data:\n",
      "+-----------+-----+-----+-------+-------+\n",
      "| threshold | fpr | tpr |   p   |   n   |\n",
      "+-----------+-----+-----+-------+-------+\n",
      "|    0.0    | 1.0 | 1.0 | 45138 | 12627 |\n",
      "|   1e-05   | 1.0 | 1.0 | 45138 | 12627 |\n",
      "|   2e-05   | 1.0 | 1.0 | 45138 | 12627 |\n",
      "|   3e-05   | 1.0 | 1.0 | 45138 | 12627 |\n",
      "|   4e-05   | 1.0 | 1.0 | 45138 | 12627 |\n",
      "|   5e-05   | 1.0 | 1.0 | 45138 | 12627 |\n",
      "|   6e-05   | 1.0 | 1.0 | 45138 | 12627 |\n",
      "|   7e-05   | 1.0 | 1.0 | 45138 | 12627 |\n",
      "|   8e-05   | 1.0 | 1.0 | 45138 | 12627 |\n",
      "|   9e-05   | 1.0 | 1.0 | 45138 | 12627 |\n",
      "+-----------+-----+-----+-------+-------+\n",
      "[100001 rows x 5 columns]\n",
      "Note: Only the head of the SFrame is printed.\n",
      "You can use print_rows(num_rows=m, num_columns=n) to print more rows and columns.}\n",
      "\n",
      "--------------------------------------------------------------------------------------------------------------------------------------------------------------------------------------------------------\n",
      "\n",
      "{'accuracy': 0.807513200034623, 'auc': 0.7817806699160945, 'confusion_matrix': Columns:\n",
      "\ttarget_label\tstr\n",
      "\tpredicted_label\tstr\n",
      "\tcount\tint\n",
      "\n",
      "Rows: 4\n",
      "\n",
      "Data:\n",
      "+--------------+-----------------+-------+\n",
      "| target_label | predicted_label | count |\n",
      "+--------------+-----------------+-------+\n",
      "|   Negative   |     Positive    |  8957 |\n",
      "|   Positive   |     Negative    |  2162 |\n",
      "|   Negative   |     Negative    |  3670 |\n",
      "|   Positive   |     Positive    | 42976 |\n",
      "+--------------+-----------------+-------+\n",
      "[4 rows x 3 columns]\n",
      ", 'f1_score': 0.8854549762544942, 'log_loss': 0.4327434339267163, 'precision': 0.8275277761731462, 'recall': 0.952102441401923, 'roc_curve': Columns:\n",
      "\tthreshold\tfloat\n",
      "\tfpr\tfloat\n",
      "\ttpr\tfloat\n",
      "\tp\tint\n",
      "\tn\tint\n",
      "\n",
      "Rows: 100001\n",
      "\n",
      "Data:\n",
      "+-----------+-----+-----+-------+-------+\n",
      "| threshold | fpr | tpr |   p   |   n   |\n",
      "+-----------+-----+-----+-------+-------+\n",
      "|    0.0    | 1.0 | 1.0 | 45138 | 12627 |\n",
      "|   1e-05   | 1.0 | 1.0 | 45138 | 12627 |\n",
      "|   2e-05   | 1.0 | 1.0 | 45138 | 12627 |\n",
      "|   3e-05   | 1.0 | 1.0 | 45138 | 12627 |\n",
      "|   4e-05   | 1.0 | 1.0 | 45138 | 12627 |\n",
      "|   5e-05   | 1.0 | 1.0 | 45138 | 12627 |\n",
      "|   6e-05   | 1.0 | 1.0 | 45138 | 12627 |\n",
      "|   7e-05   | 1.0 | 1.0 | 45138 | 12627 |\n",
      "|   8e-05   | 1.0 | 1.0 | 45138 | 12627 |\n",
      "|   9e-05   | 1.0 | 1.0 | 45138 | 12627 |\n",
      "+-----------+-----+-----+-------+-------+\n",
      "[100001 rows x 5 columns]\n",
      "Note: Only the head of the SFrame is printed.\n",
      "You can use print_rows(num_rows=m, num_columns=n) to print more rows and columns.}\n"
     ]
    }
   ],
   "source": [
    "print(res1)\n",
    "print('\\n'+ '--'*100 + '\\n')\n",
    "print(res2)"
   ]
  },
  {
   "cell_type": "code",
   "execution_count": 22,
   "metadata": {},
   "outputs": [
    {
     "data": {
      "text/plain": [
       "<matplotlib.legend.Legend at 0x7fd3c829ba58>"
      ]
     },
     "execution_count": 22,
     "metadata": {},
     "output_type": "execute_result"
    },
    {
     "data": {
      "image/png": "[encoded data removed]",
      "text/plain": [
       "<Figure size 432x288 with 1 Axes>"
      ]
     },
     "metadata": {
      "needs_background": "light"
     },
     "output_type": "display_data"
    }
   ],
   "source": [
    "res = pd.DataFrame(columns=['class', 'measure', 'measure_score'])\n",
    "for measure, score in res1.items():\n",
    "    if measure in ['accuracy', 'auc', 'f1_score']:\n",
    "        res = res.append({'class': 'Affin', 'measure': measure, 'measure_score': score}, ignore_index=True)\n",
    "for measure, score in res2.items():\n",
    "    if measure in ['accuracy', 'auc', 'f1_score']:\n",
    "        res = res.append({'class': 'Blob', 'measure': measure, 'measure_score': score}, ignore_index=True)\n",
    "sns.barplot(data=res, x='measure', y='measure_score', hue='class')\n",
    "plt.legend(loc='lower right')"
   ]
  },
  {
   "cell_type": "markdown",
   "metadata": {},
   "source": [
    "**Question 3:**  Select a reviews dataset and create a sentiment classifier which utilizes word embeddings (25pt).\n",
    "Evaluate this classifier (5pt). Try to improve your classifier by adding additional features (20pt)"
   ]
  },
  {
   "cell_type": "code",
   "execution_count": 44,
   "metadata": {},
   "outputs": [
    {
     "data": {
      "text/html": [
       "<pre>Finished parsing file /data/home/laadan/BigData/Lecture 6/hotel_review.csv</pre>"
      ],
      "text/plain": [
       "Finished parsing file /data/home/laadan/BigData/Lecture 6/hotel_review.csv"
      ]
     },
     "metadata": {},
     "output_type": "display_data"
    },
    {
     "data": {
      "text/html": [
       "<pre>Parsing completed. Parsed 100 lines in 0.20395 secs.</pre>"
      ],
      "text/plain": [
       "Parsing completed. Parsed 100 lines in 0.20395 secs."
      ]
     },
     "metadata": {},
     "output_type": "display_data"
    },
    {
     "name": "stdout",
     "output_type": "stream",
     "text": [
      "------------------------------------------------------\n",
      "Inferred types from first 100 line(s) of file as \n",
      "column_type_hints=[str,str,str,str,str]\n",
      "If parsing fails due to incorrect types, you can correct\n",
      "the inferred type list above and pass it to read_csv in\n",
      "the column_type_hints argument\n",
      "------------------------------------------------------\n"
     ]
    },
    {
     "data": {
      "text/html": [
       "<pre>Finished parsing file /data/home/laadan/BigData/Lecture 6/hotel_review.csv</pre>"
      ],
      "text/plain": [
       "Finished parsing file /data/home/laadan/BigData/Lecture 6/hotel_review.csv"
      ]
     },
     "metadata": {},
     "output_type": "display_data"
    },
    {
     "data": {
      "text/html": [
       "<pre>Parsing completed. Parsed 38932 lines in 0.333221 secs.</pre>"
      ],
      "text/plain": [
       "Parsing completed. Parsed 38932 lines in 0.333221 secs."
      ]
     },
     "metadata": {},
     "output_type": "display_data"
    },
    {
     "data": {
      "text/html": [
       "<div style=\"max-height:1000px;max-width:1500px;overflow:auto;\"><table frame=\"box\" rules=\"cols\">\n",
       "    <tr>\n",
       "        <th style=\"padding-left: 1em; padding-right: 1em; text-align: center\">User_ID</th>\n",
       "        <th style=\"padding-left: 1em; padding-right: 1em; text-align: center\">Description</th>\n",
       "        <th style=\"padding-left: 1em; padding-right: 1em; text-align: center\">Browser_Used</th>\n",
       "        <th style=\"padding-left: 1em; padding-right: 1em; text-align: center\">Device_Used</th>\n",
       "        <th style=\"padding-left: 1em; padding-right: 1em; text-align: center\">sentiment</th>\n",
       "    </tr>\n",
       "    <tr>\n",
       "        <td style=\"padding-left: 1em; padding-right: 1em; text-align: center; vertical-align: top\">id10326</td>\n",
       "        <td style=\"padding-left: 1em; padding-right: 1em; text-align: center; vertical-align: top\">The room was kind of<br>clean but had a VERY ...</td>\n",
       "        <td style=\"padding-left: 1em; padding-right: 1em; text-align: center; vertical-align: top\">Edge</td>\n",
       "        <td style=\"padding-left: 1em; padding-right: 1em; text-align: center; vertical-align: top\">Mobile</td>\n",
       "        <td style=\"padding-left: 1em; padding-right: 1em; text-align: center; vertical-align: top\">not happy</td>\n",
       "    </tr>\n",
       "    <tr>\n",
       "        <td style=\"padding-left: 1em; padding-right: 1em; text-align: center; vertical-align: top\">id10327</td>\n",
       "        <td style=\"padding-left: 1em; padding-right: 1em; text-align: center; vertical-align: top\">I stayed at the Crown<br>Plaza April -- - April ...</td>\n",
       "        <td style=\"padding-left: 1em; padding-right: 1em; text-align: center; vertical-align: top\">Internet Explorer</td>\n",
       "        <td style=\"padding-left: 1em; padding-right: 1em; text-align: center; vertical-align: top\">Mobile</td>\n",
       "        <td style=\"padding-left: 1em; padding-right: 1em; text-align: center; vertical-align: top\">not happy</td>\n",
       "    </tr>\n",
       "    <tr>\n",
       "        <td style=\"padding-left: 1em; padding-right: 1em; text-align: center; vertical-align: top\">id10328</td>\n",
       "        <td style=\"padding-left: 1em; padding-right: 1em; text-align: center; vertical-align: top\">I booked this hotel<br>through Hotwire at the ...</td>\n",
       "        <td style=\"padding-left: 1em; padding-right: 1em; text-align: center; vertical-align: top\">Mozilla</td>\n",
       "        <td style=\"padding-left: 1em; padding-right: 1em; text-align: center; vertical-align: top\">Tablet</td>\n",
       "        <td style=\"padding-left: 1em; padding-right: 1em; text-align: center; vertical-align: top\">not happy</td>\n",
       "    </tr>\n",
       "    <tr>\n",
       "        <td style=\"padding-left: 1em; padding-right: 1em; text-align: center; vertical-align: top\">id10329</td>\n",
       "        <td style=\"padding-left: 1em; padding-right: 1em; text-align: center; vertical-align: top\">Stayed here with husband<br>and sons on the way t ...</td>\n",
       "        <td style=\"padding-left: 1em; padding-right: 1em; text-align: center; vertical-align: top\">InternetExplorer</td>\n",
       "        <td style=\"padding-left: 1em; padding-right: 1em; text-align: center; vertical-align: top\">Desktop</td>\n",
       "        <td style=\"padding-left: 1em; padding-right: 1em; text-align: center; vertical-align: top\">happy</td>\n",
       "    </tr>\n",
       "    <tr>\n",
       "        <td style=\"padding-left: 1em; padding-right: 1em; text-align: center; vertical-align: top\">id10330</td>\n",
       "        <td style=\"padding-left: 1em; padding-right: 1em; text-align: center; vertical-align: top\">My girlfriends and I<br>stayed here to celebrate ...</td>\n",
       "        <td style=\"padding-left: 1em; padding-right: 1em; text-align: center; vertical-align: top\">Edge</td>\n",
       "        <td style=\"padding-left: 1em; padding-right: 1em; text-align: center; vertical-align: top\">Tablet</td>\n",
       "        <td style=\"padding-left: 1em; padding-right: 1em; text-align: center; vertical-align: top\">not happy</td>\n",
       "    </tr>\n",
       "    <tr>\n",
       "        <td style=\"padding-left: 1em; padding-right: 1em; text-align: center; vertical-align: top\">id10331</td>\n",
       "        <td style=\"padding-left: 1em; padding-right: 1em; text-align: center; vertical-align: top\">We had - rooms. One was<br>very nice and clearly ...</td>\n",
       "        <td style=\"padding-left: 1em; padding-right: 1em; text-align: center; vertical-align: top\">InternetExplorer</td>\n",
       "        <td style=\"padding-left: 1em; padding-right: 1em; text-align: center; vertical-align: top\">Desktop</td>\n",
       "        <td style=\"padding-left: 1em; padding-right: 1em; text-align: center; vertical-align: top\">happy</td>\n",
       "    </tr>\n",
       "    <tr>\n",
       "        <td style=\"padding-left: 1em; padding-right: 1em; text-align: center; vertical-align: top\">id10332</td>\n",
       "        <td style=\"padding-left: 1em; padding-right: 1em; text-align: center; vertical-align: top\">My husband and I have<br>stayed in this hotel a ...</td>\n",
       "        <td style=\"padding-left: 1em; padding-right: 1em; text-align: center; vertical-align: top\">Firefox</td>\n",
       "        <td style=\"padding-left: 1em; padding-right: 1em; text-align: center; vertical-align: top\">Tablet</td>\n",
       "        <td style=\"padding-left: 1em; padding-right: 1em; text-align: center; vertical-align: top\">not happy</td>\n",
       "    </tr>\n",
       "    <tr>\n",
       "        <td style=\"padding-left: 1em; padding-right: 1em; text-align: center; vertical-align: top\">id10333</td>\n",
       "        <td style=\"padding-left: 1em; padding-right: 1em; text-align: center; vertical-align: top\">My wife &amp; I stayed in<br>this glorious city a ...</td>\n",
       "        <td style=\"padding-left: 1em; padding-right: 1em; text-align: center; vertical-align: top\">Google Chrome</td>\n",
       "        <td style=\"padding-left: 1em; padding-right: 1em; text-align: center; vertical-align: top\">Mobile</td>\n",
       "        <td style=\"padding-left: 1em; padding-right: 1em; text-align: center; vertical-align: top\">happy</td>\n",
       "    </tr>\n",
       "    <tr>\n",
       "        <td style=\"padding-left: 1em; padding-right: 1em; text-align: center; vertical-align: top\">id10334</td>\n",
       "        <td style=\"padding-left: 1em; padding-right: 1em; text-align: center; vertical-align: top\">My boyfriend and I stayed<br>at the Fairmont on a ...</td>\n",
       "        <td style=\"padding-left: 1em; padding-right: 1em; text-align: center; vertical-align: top\">Internet Explorer</td>\n",
       "        <td style=\"padding-left: 1em; padding-right: 1em; text-align: center; vertical-align: top\">Desktop</td>\n",
       "        <td style=\"padding-left: 1em; padding-right: 1em; text-align: center; vertical-align: top\">happy</td>\n",
       "    </tr>\n",
       "    <tr>\n",
       "        <td style=\"padding-left: 1em; padding-right: 1em; text-align: center; vertical-align: top\">id10335</td>\n",
       "        <td style=\"padding-left: 1em; padding-right: 1em; text-align: center; vertical-align: top\">Wonderful staff, great<br>location, but it was ...</td>\n",
       "        <td style=\"padding-left: 1em; padding-right: 1em; text-align: center; vertical-align: top\">Chrome</td>\n",
       "        <td style=\"padding-left: 1em; padding-right: 1em; text-align: center; vertical-align: top\">Tablet</td>\n",
       "        <td style=\"padding-left: 1em; padding-right: 1em; text-align: center; vertical-align: top\">not happy</td>\n",
       "    </tr>\n",
       "</table>\n",
       "[38932 rows x 5 columns]<br/>Note: Only the head of the SFrame is printed.<br/>You can use print_rows(num_rows=m, num_columns=n) to print more rows and columns.\n",
       "</div>"
      ],
      "text/plain": [
       "Columns:\n",
       "\tUser_ID\tstr\n",
       "\tDescription\tstr\n",
       "\tBrowser_Used\tstr\n",
       "\tDevice_Used\tstr\n",
       "\tsentiment\tstr\n",
       "\n",
       "Rows: 38932\n",
       "\n",
       "Data:\n",
       "+---------+-------------------------------+-------------------+-------------+\n",
       "| User_ID |          Description          |    Browser_Used   | Device_Used |\n",
       "+---------+-------------------------------+-------------------+-------------+\n",
       "| id10326 | The room was kind of clean... |        Edge       |    Mobile   |\n",
       "| id10327 | I stayed at the Crown Plaz... | Internet Explorer |    Mobile   |\n",
       "| id10328 | I booked this hotel throug... |      Mozilla      |    Tablet   |\n",
       "| id10329 | Stayed here with husband a... |  InternetExplorer |   Desktop   |\n",
       "| id10330 | My girlfriends and I staye... |        Edge       |    Tablet   |\n",
       "| id10331 | We had - rooms. One was ve... |  InternetExplorer |   Desktop   |\n",
       "| id10332 | My husband and I have stay... |      Firefox      |    Tablet   |\n",
       "| id10333 | My wife & I stayed in this... |   Google Chrome   |    Mobile   |\n",
       "| id10334 | My boyfriend and I stayed ... | Internet Explorer |   Desktop   |\n",
       "| id10335 | Wonderful staff, great loc... |       Chrome      |    Tablet   |\n",
       "+---------+-------------------------------+-------------------+-------------+\n",
       "+-----------+\n",
       "| sentiment |\n",
       "+-----------+\n",
       "| not happy |\n",
       "| not happy |\n",
       "| not happy |\n",
       "|   happy   |\n",
       "| not happy |\n",
       "|   happy   |\n",
       "| not happy |\n",
       "|   happy   |\n",
       "|   happy   |\n",
       "| not happy |\n",
       "+-----------+\n",
       "[38932 rows x 5 columns]\n",
       "Note: Only the head of the SFrame is printed.\n",
       "You can use print_rows(num_rows=m, num_columns=n) to print more rows and columns."
      ]
     },
     "execution_count": 44,
     "metadata": {},
     "output_type": "execute_result"
    }
   ],
   "source": [
    "hotel_sf = tc.SFrame.read_csv(\"./hotel_review.csv\")\n",
    "hotel_sf = hotel_sf.rename({\"Is_Response\": 'sentiment'})\n",
    "hotel_sf = hotel_sf[hotel_sf['sentiment'].apply(lambda s: s=='happy' or s=='not happy')]\n",
    "hotel_sf.materialize()\n",
    "hotel_sf"
   ]
  },
  {
   "cell_type": "code",
   "execution_count": 37,
   "metadata": {},
   "outputs": [
    {
     "name": "stderr",
     "output_type": "stream",
     "text": [
      "100%|██████████| 38932/38932 [16:07<00:00, 40.23it/s]\n"
     ]
    },
    {
     "data": {
      "text/html": [
       "<div style=\"max-height:1000px;max-width:1500px;overflow:auto;\"><table frame=\"box\" rules=\"cols\">\n",
       "    <tr>\n",
       "        <th style=\"padding-left: 1em; padding-right: 1em; text-align: center\">User_ID</th>\n",
       "        <th style=\"padding-left: 1em; padding-right: 1em; text-align: center\">Description</th>\n",
       "        <th style=\"padding-left: 1em; padding-right: 1em; text-align: center\">Browser_Used</th>\n",
       "        <th style=\"padding-left: 1em; padding-right: 1em; text-align: center\">Device_Used</th>\n",
       "        <th style=\"padding-left: 1em; padding-right: 1em; text-align: center\">sentiment</th>\n",
       "        <th style=\"padding-left: 1em; padding-right: 1em; text-align: center\">embedding</th>\n",
       "    </tr>\n",
       "    <tr>\n",
       "        <td style=\"padding-left: 1em; padding-right: 1em; text-align: center; vertical-align: top\">id10326</td>\n",
       "        <td style=\"padding-left: 1em; padding-right: 1em; text-align: center; vertical-align: top\">The room was kind of<br>clean but had a VERY ...</td>\n",
       "        <td style=\"padding-left: 1em; padding-right: 1em; text-align: center; vertical-align: top\">Edge</td>\n",
       "        <td style=\"padding-left: 1em; padding-right: 1em; text-align: center; vertical-align: top\">Mobile</td>\n",
       "        <td style=\"padding-left: 1em; padding-right: 1em; text-align: center; vertical-align: top\">not happy</td>\n",
       "        <td style=\"padding-left: 1em; padding-right: 1em; text-align: center; vertical-align: top\">[-8.49629492e-02<br>2.04913720e-01 ...</td>\n",
       "    </tr>\n",
       "    <tr>\n",
       "        <td style=\"padding-left: 1em; padding-right: 1em; text-align: center; vertical-align: top\">id10327</td>\n",
       "        <td style=\"padding-left: 1em; padding-right: 1em; text-align: center; vertical-align: top\">I stayed at the Crown<br>Plaza April -- - April ...</td>\n",
       "        <td style=\"padding-left: 1em; padding-right: 1em; text-align: center; vertical-align: top\">Internet Explorer</td>\n",
       "        <td style=\"padding-left: 1em; padding-right: 1em; text-align: center; vertical-align: top\">Mobile</td>\n",
       "        <td style=\"padding-left: 1em; padding-right: 1em; text-align: center; vertical-align: top\">not happy</td>\n",
       "        <td style=\"padding-left: 1em; padding-right: 1em; text-align: center; vertical-align: top\">[ 2.52744257e-02<br>1.43834785e-01 ...</td>\n",
       "    </tr>\n",
       "    <tr>\n",
       "        <td style=\"padding-left: 1em; padding-right: 1em; text-align: center; vertical-align: top\">id10328</td>\n",
       "        <td style=\"padding-left: 1em; padding-right: 1em; text-align: center; vertical-align: top\">I booked this hotel<br>through Hotwire at the ...</td>\n",
       "        <td style=\"padding-left: 1em; padding-right: 1em; text-align: center; vertical-align: top\">Mozilla</td>\n",
       "        <td style=\"padding-left: 1em; padding-right: 1em; text-align: center; vertical-align: top\">Tablet</td>\n",
       "        <td style=\"padding-left: 1em; padding-right: 1em; text-align: center; vertical-align: top\">not happy</td>\n",
       "        <td style=\"padding-left: 1em; padding-right: 1em; text-align: center; vertical-align: top\">[ 1.90870464e-02<br>2.43706644e-01 ...</td>\n",
       "    </tr>\n",
       "    <tr>\n",
       "        <td style=\"padding-left: 1em; padding-right: 1em; text-align: center; vertical-align: top\">id10329</td>\n",
       "        <td style=\"padding-left: 1em; padding-right: 1em; text-align: center; vertical-align: top\">Stayed here with husband<br>and sons on the way t ...</td>\n",
       "        <td style=\"padding-left: 1em; padding-right: 1em; text-align: center; vertical-align: top\">InternetExplorer</td>\n",
       "        <td style=\"padding-left: 1em; padding-right: 1em; text-align: center; vertical-align: top\">Desktop</td>\n",
       "        <td style=\"padding-left: 1em; padding-right: 1em; text-align: center; vertical-align: top\">happy</td>\n",
       "        <td style=\"padding-left: 1em; padding-right: 1em; text-align: center; vertical-align: top\">[ 5.90319820e-02<br>1.28543690e-01 ...</td>\n",
       "    </tr>\n",
       "    <tr>\n",
       "        <td style=\"padding-left: 1em; padding-right: 1em; text-align: center; vertical-align: top\">id10330</td>\n",
       "        <td style=\"padding-left: 1em; padding-right: 1em; text-align: center; vertical-align: top\">My girlfriends and I<br>stayed here to celebrate ...</td>\n",
       "        <td style=\"padding-left: 1em; padding-right: 1em; text-align: center; vertical-align: top\">Edge</td>\n",
       "        <td style=\"padding-left: 1em; padding-right: 1em; text-align: center; vertical-align: top\">Tablet</td>\n",
       "        <td style=\"padding-left: 1em; padding-right: 1em; text-align: center; vertical-align: top\">not happy</td>\n",
       "        <td style=\"padding-left: 1em; padding-right: 1em; text-align: center; vertical-align: top\">[ 2.75926329e-02<br>1.89239785e-01 ...</td>\n",
       "    </tr>\n",
       "    <tr>\n",
       "        <td style=\"padding-left: 1em; padding-right: 1em; text-align: center; vertical-align: top\">id10331</td>\n",
       "        <td style=\"padding-left: 1em; padding-right: 1em; text-align: center; vertical-align: top\">We had - rooms. One was<br>very nice and clearly ...</td>\n",
       "        <td style=\"padding-left: 1em; padding-right: 1em; text-align: center; vertical-align: top\">InternetExplorer</td>\n",
       "        <td style=\"padding-left: 1em; padding-right: 1em; text-align: center; vertical-align: top\">Desktop</td>\n",
       "        <td style=\"padding-left: 1em; padding-right: 1em; text-align: center; vertical-align: top\">happy</td>\n",
       "        <td style=\"padding-left: 1em; padding-right: 1em; text-align: center; vertical-align: top\">[ 1.10339439e-02<br>1.44361585e-01 ...</td>\n",
       "    </tr>\n",
       "    <tr>\n",
       "        <td style=\"padding-left: 1em; padding-right: 1em; text-align: center; vertical-align: top\">id10332</td>\n",
       "        <td style=\"padding-left: 1em; padding-right: 1em; text-align: center; vertical-align: top\">My husband and I have<br>stayed in this hotel a ...</td>\n",
       "        <td style=\"padding-left: 1em; padding-right: 1em; text-align: center; vertical-align: top\">Firefox</td>\n",
       "        <td style=\"padding-left: 1em; padding-right: 1em; text-align: center; vertical-align: top\">Tablet</td>\n",
       "        <td style=\"padding-left: 1em; padding-right: 1em; text-align: center; vertical-align: top\">not happy</td>\n",
       "        <td style=\"padding-left: 1em; padding-right: 1em; text-align: center; vertical-align: top\">[ 5.72171584e-02<br>1.23365790e-01 ...</td>\n",
       "    </tr>\n",
       "    <tr>\n",
       "        <td style=\"padding-left: 1em; padding-right: 1em; text-align: center; vertical-align: top\">id10333</td>\n",
       "        <td style=\"padding-left: 1em; padding-right: 1em; text-align: center; vertical-align: top\">My wife &amp; I stayed in<br>this glorious city a ...</td>\n",
       "        <td style=\"padding-left: 1em; padding-right: 1em; text-align: center; vertical-align: top\">Google Chrome</td>\n",
       "        <td style=\"padding-left: 1em; padding-right: 1em; text-align: center; vertical-align: top\">Mobile</td>\n",
       "        <td style=\"padding-left: 1em; padding-right: 1em; text-align: center; vertical-align: top\">happy</td>\n",
       "        <td style=\"padding-left: 1em; padding-right: 1em; text-align: center; vertical-align: top\">[ 2.27079615e-02<br>1.79693699e-01 ...</td>\n",
       "    </tr>\n",
       "    <tr>\n",
       "        <td style=\"padding-left: 1em; padding-right: 1em; text-align: center; vertical-align: top\">id10334</td>\n",
       "        <td style=\"padding-left: 1em; padding-right: 1em; text-align: center; vertical-align: top\">My boyfriend and I stayed<br>at the Fairmont on a ...</td>\n",
       "        <td style=\"padding-left: 1em; padding-right: 1em; text-align: center; vertical-align: top\">Internet Explorer</td>\n",
       "        <td style=\"padding-left: 1em; padding-right: 1em; text-align: center; vertical-align: top\">Desktop</td>\n",
       "        <td style=\"padding-left: 1em; padding-right: 1em; text-align: center; vertical-align: top\">happy</td>\n",
       "        <td style=\"padding-left: 1em; padding-right: 1em; text-align: center; vertical-align: top\">[ 7.02920109e-02<br>1.25407308e-01 ...</td>\n",
       "    </tr>\n",
       "    <tr>\n",
       "        <td style=\"padding-left: 1em; padding-right: 1em; text-align: center; vertical-align: top\">id10335</td>\n",
       "        <td style=\"padding-left: 1em; padding-right: 1em; text-align: center; vertical-align: top\">Wonderful staff, great<br>location, but it was ...</td>\n",
       "        <td style=\"padding-left: 1em; padding-right: 1em; text-align: center; vertical-align: top\">Chrome</td>\n",
       "        <td style=\"padding-left: 1em; padding-right: 1em; text-align: center; vertical-align: top\">Tablet</td>\n",
       "        <td style=\"padding-left: 1em; padding-right: 1em; text-align: center; vertical-align: top\">not happy</td>\n",
       "        <td style=\"padding-left: 1em; padding-right: 1em; text-align: center; vertical-align: top\">[-4.62593250e-02<br>2.38092840e-01 ...</td>\n",
       "    </tr>\n",
       "</table>\n",
       "[10 rows x 6 columns]<br/>\n",
       "</div>"
      ],
      "text/plain": [
       "Columns:\n",
       "\tUser_ID\tstr\n",
       "\tDescription\tstr\n",
       "\tBrowser_Used\tstr\n",
       "\tDevice_Used\tstr\n",
       "\tsentiment\tstr\n",
       "\tembedding\tndarray\n",
       "\n",
       "Rows: 10\n",
       "\n",
       "Data:\n",
       "+---------+-------------------------------+-------------------+-------------+\n",
       "| User_ID |          Description          |    Browser_Used   | Device_Used |\n",
       "+---------+-------------------------------+-------------------+-------------+\n",
       "| id10326 | The room was kind of clean... |        Edge       |    Mobile   |\n",
       "| id10327 | I stayed at the Crown Plaz... | Internet Explorer |    Mobile   |\n",
       "| id10328 | I booked this hotel throug... |      Mozilla      |    Tablet   |\n",
       "| id10329 | Stayed here with husband a... |  InternetExplorer |   Desktop   |\n",
       "| id10330 | My girlfriends and I staye... |        Edge       |    Tablet   |\n",
       "| id10331 | We had - rooms. One was ve... |  InternetExplorer |   Desktop   |\n",
       "| id10332 | My husband and I have stay... |      Firefox      |    Tablet   |\n",
       "| id10333 | My wife & I stayed in this... |   Google Chrome   |    Mobile   |\n",
       "| id10334 | My boyfriend and I stayed ... | Internet Explorer |   Desktop   |\n",
       "| id10335 | Wonderful staff, great loc... |       Chrome      |    Tablet   |\n",
       "+---------+-------------------------------+-------------------+-------------+\n",
       "+-----------+-------------------------------+\n",
       "| sentiment |           embedding           |\n",
       "+-----------+-------------------------------+\n",
       "| not happy | [-8.49629492e-02  2.049137... |\n",
       "| not happy | [ 2.52744257e-02  1.438347... |\n",
       "| not happy | [ 1.90870464e-02  2.437066... |\n",
       "|   happy   | [ 5.90319820e-02  1.285436... |\n",
       "| not happy | [ 2.75926329e-02  1.892397... |\n",
       "|   happy   | [ 1.10339439e-02  1.443615... |\n",
       "| not happy | [ 5.72171584e-02  1.233657... |\n",
       "|   happy   | [ 2.27079615e-02  1.796936... |\n",
       "|   happy   | [ 7.02920109e-02  1.254073... |\n",
       "| not happy | [-4.62593250e-02  2.380928... |\n",
       "+-----------+-------------------------------+\n",
       "[10 rows x 6 columns]"
      ]
     },
     "execution_count": 37,
     "metadata": {},
     "output_type": "execute_result"
    }
   ],
   "source": [
    "nlp = en_core_web_lg.load()\n",
    "l = []\n",
    "for i in tqdm(range(len(hotel_sf))):\n",
    "    text = hotel_sf[i][\"Description\"]\n",
    "    l.append(nlp(text).vector)\n",
    "hotel_sf['embedding'] = l \n",
    "hotel_sf.head()"
   ]
  },
  {
   "cell_type": "code",
   "execution_count": 38,
   "metadata": {},
   "outputs": [
    {
     "name": "stdout",
     "output_type": "stream",
     "text": [
      "PROGRESS: Creating a validation set from 5 percent of training data. This may take a while.\n",
      "          You can set ``validation_set=None`` to disable validation tracking.\n",
      "\n",
      "PROGRESS: The following methods are available for this type of problem.\n",
      "PROGRESS: LogisticClassifier, SVMClassifier\n",
      "PROGRESS: The returned model will be chosen according to validation accuracy.\n"
     ]
    },
    {
     "data": {
      "text/html": [
       "<pre>Logistic regression:</pre>"
      ],
      "text/plain": [
       "Logistic regression:"
      ]
     },
     "metadata": {},
     "output_type": "display_data"
    },
    {
     "data": {
      "text/html": [
       "<pre>--------------------------------------------------------</pre>"
      ],
      "text/plain": [
       "--------------------------------------------------------"
      ]
     },
     "metadata": {},
     "output_type": "display_data"
    },
    {
     "data": {
      "text/html": [
       "<pre>Number of examples          : 29555</pre>"
      ],
      "text/plain": [
       "Number of examples          : 29555"
      ]
     },
     "metadata": {},
     "output_type": "display_data"
    },
    {
     "data": {
      "text/html": [
       "<pre>Number of classes           : 2</pre>"
      ],
      "text/plain": [
       "Number of classes           : 2"
      ]
     },
     "metadata": {},
     "output_type": "display_data"
    },
    {
     "data": {
      "text/html": [
       "<pre>Number of feature columns   : 1</pre>"
      ],
      "text/plain": [
       "Number of feature columns   : 1"
      ]
     },
     "metadata": {},
     "output_type": "display_data"
    },
    {
     "data": {
      "text/html": [
       "<pre>Number of unpacked features : 300</pre>"
      ],
      "text/plain": [
       "Number of unpacked features : 300"
      ]
     },
     "metadata": {},
     "output_type": "display_data"
    },
    {
     "data": {
      "text/html": [
       "<pre>Number of coefficients      : 301</pre>"
      ],
      "text/plain": [
       "Number of coefficients      : 301"
      ]
     },
     "metadata": {},
     "output_type": "display_data"
    },
    {
     "data": {
      "text/html": [
       "<pre>Starting Newton Method</pre>"
      ],
      "text/plain": [
       "Starting Newton Method"
      ]
     },
     "metadata": {},
     "output_type": "display_data"
    },
    {
     "data": {
      "text/html": [
       "<pre>--------------------------------------------------------</pre>"
      ],
      "text/plain": [
       "--------------------------------------------------------"
      ]
     },
     "metadata": {},
     "output_type": "display_data"
    },
    {
     "data": {
      "text/html": [
       "<pre>+-----------+----------+--------------+-------------------+---------------------+</pre>"
      ],
      "text/plain": [
       "+-----------+----------+--------------+-------------------+---------------------+"
      ]
     },
     "metadata": {},
     "output_type": "display_data"
    },
    {
     "data": {
      "text/html": [
       "<pre>| Iteration | Passes   | Elapsed Time | Training Accuracy | Validation Accuracy |</pre>"
      ],
      "text/plain": [
       "| Iteration | Passes   | Elapsed Time | Training Accuracy | Validation Accuracy |"
      ]
     },
     "metadata": {},
     "output_type": "display_data"
    },
    {
     "data": {
      "text/html": [
       "<pre>+-----------+----------+--------------+-------------------+---------------------+</pre>"
      ],
      "text/plain": [
       "+-----------+----------+--------------+-------------------+---------------------+"
      ]
     },
     "metadata": {},
     "output_type": "display_data"
    },
    {
     "data": {
      "text/html": [
       "<pre>| 1         | 2        | 1.735498     | 0.871765          | 0.868926            |</pre>"
      ],
      "text/plain": [
       "| 1         | 2        | 1.735498     | 0.871765          | 0.868926            |"
      ]
     },
     "metadata": {},
     "output_type": "display_data"
    },
    {
     "data": {
      "text/html": [
       "<pre>| 2         | 3        | 2.729390     | 0.877855          | 0.867008            |</pre>"
      ],
      "text/plain": [
       "| 2         | 3        | 2.729390     | 0.877855          | 0.867008            |"
      ]
     },
     "metadata": {},
     "output_type": "display_data"
    },
    {
     "data": {
      "text/html": [
       "<pre>| 3         | 4        | 3.784442     | 0.879547          | 0.867008            |</pre>"
      ],
      "text/plain": [
       "| 3         | 4        | 3.784442     | 0.879547          | 0.867008            |"
      ]
     },
     "metadata": {},
     "output_type": "display_data"
    },
    {
     "data": {
      "text/html": [
       "<pre>| 4         | 5        | 4.738446     | 0.879885          | 0.872123            |</pre>"
      ],
      "text/plain": [
       "| 4         | 5        | 4.738446     | 0.879885          | 0.872123            |"
      ]
     },
     "metadata": {},
     "output_type": "display_data"
    },
    {
     "data": {
      "text/html": [
       "<pre>| 5         | 6        | 5.754488     | 0.880020          | 0.872762            |</pre>"
      ],
      "text/plain": [
       "| 5         | 6        | 5.754488     | 0.880020          | 0.872762            |"
      ]
     },
     "metadata": {},
     "output_type": "display_data"
    },
    {
     "data": {
      "text/html": [
       "<pre>| 6         | 7        | 6.764288     | 0.879986          | 0.872762            |</pre>"
      ],
      "text/plain": [
       "| 6         | 7        | 6.764288     | 0.879986          | 0.872762            |"
      ]
     },
     "metadata": {},
     "output_type": "display_data"
    },
    {
     "data": {
      "text/html": [
       "<pre>+-----------+----------+--------------+-------------------+---------------------+</pre>"
      ],
      "text/plain": [
       "+-----------+----------+--------------+-------------------+---------------------+"
      ]
     },
     "metadata": {},
     "output_type": "display_data"
    },
    {
     "data": {
      "text/html": [
       "<pre>SUCCESS: Optimal solution found.</pre>"
      ],
      "text/plain": [
       "SUCCESS: Optimal solution found."
      ]
     },
     "metadata": {},
     "output_type": "display_data"
    },
    {
     "data": {
      "text/html": [
       "<pre></pre>"
      ],
      "text/plain": []
     },
     "metadata": {},
     "output_type": "display_data"
    },
    {
     "data": {
      "text/html": [
       "<pre>SVM:</pre>"
      ],
      "text/plain": [
       "SVM:"
      ]
     },
     "metadata": {},
     "output_type": "display_data"
    },
    {
     "data": {
      "text/html": [
       "<pre>--------------------------------------------------------</pre>"
      ],
      "text/plain": [
       "--------------------------------------------------------"
      ]
     },
     "metadata": {},
     "output_type": "display_data"
    },
    {
     "data": {
      "text/html": [
       "<pre>Number of examples          : 29555</pre>"
      ],
      "text/plain": [
       "Number of examples          : 29555"
      ]
     },
     "metadata": {},
     "output_type": "display_data"
    },
    {
     "data": {
      "text/html": [
       "<pre>Number of classes           : 2</pre>"
      ],
      "text/plain": [
       "Number of classes           : 2"
      ]
     },
     "metadata": {},
     "output_type": "display_data"
    },
    {
     "data": {
      "text/html": [
       "<pre>Number of feature columns   : 1</pre>"
      ],
      "text/plain": [
       "Number of feature columns   : 1"
      ]
     },
     "metadata": {},
     "output_type": "display_data"
    },
    {
     "data": {
      "text/html": [
       "<pre>Number of unpacked features : 300</pre>"
      ],
      "text/plain": [
       "Number of unpacked features : 300"
      ]
     },
     "metadata": {},
     "output_type": "display_data"
    },
    {
     "data": {
      "text/html": [
       "<pre>Number of coefficients    : 301</pre>"
      ],
      "text/plain": [
       "Number of coefficients    : 301"
      ]
     },
     "metadata": {},
     "output_type": "display_data"
    },
    {
     "data": {
      "text/html": [
       "<pre>Starting L-BFGS</pre>"
      ],
      "text/plain": [
       "Starting L-BFGS"
      ]
     },
     "metadata": {},
     "output_type": "display_data"
    },
    {
     "data": {
      "text/html": [
       "<pre>--------------------------------------------------------</pre>"
      ],
      "text/plain": [
       "--------------------------------------------------------"
      ]
     },
     "metadata": {},
     "output_type": "display_data"
    },
    {
     "data": {
      "text/html": [
       "<pre>+-----------+----------+-----------+--------------+-------------------+---------------------+</pre>"
      ],
      "text/plain": [
       "+-----------+----------+-----------+--------------+-------------------+---------------------+"
      ]
     },
     "metadata": {},
     "output_type": "display_data"
    },
    {
     "data": {
      "text/html": [
       "<pre>| Iteration | Passes   | Step size | Elapsed Time | Training Accuracy | Validation Accuracy |</pre>"
      ],
      "text/plain": [
       "| Iteration | Passes   | Step size | Elapsed Time | Training Accuracy | Validation Accuracy |"
      ]
     },
     "metadata": {},
     "output_type": "display_data"
    },
    {
     "data": {
      "text/html": [
       "<pre>+-----------+----------+-----------+--------------+-------------------+---------------------+</pre>"
      ],
      "text/plain": [
       "+-----------+----------+-----------+--------------+-------------------+---------------------+"
      ]
     },
     "metadata": {},
     "output_type": "display_data"
    },
    {
     "data": {
      "text/html": [
       "<pre>| 0         | 5        | 0.051056  | 0.133916     | 0.682118          | 0.677110            |</pre>"
      ],
      "text/plain": [
       "| 0         | 5        | 0.051056  | 0.133916     | 0.682118          | 0.677110            |"
      ]
     },
     "metadata": {},
     "output_type": "display_data"
    },
    {
     "data": {
      "text/html": [
       "<pre>| 1         | 9        | 1.072178  | 0.284110     | 0.684622          | 0.681586            |</pre>"
      ],
      "text/plain": [
       "| 1         | 9        | 1.072178  | 0.284110     | 0.684622          | 0.681586            |"
      ]
     },
     "metadata": {},
     "output_type": "display_data"
    },
    {
     "data": {
      "text/html": [
       "<pre>| 2         | 10       | 1.072178  | 0.351148     | 0.320014          | 0.322251            |</pre>"
      ],
      "text/plain": [
       "| 2         | 10       | 1.072178  | 0.351148     | 0.320014          | 0.322251            |"
      ]
     },
     "metadata": {},
     "output_type": "display_data"
    },
    {
     "data": {
      "text/html": [
       "<pre>Warning: Reached max step size.</pre>"
      ],
      "text/plain": [
       "Warning: Reached max step size."
      ]
     },
     "metadata": {},
     "output_type": "display_data"
    },
    {
     "data": {
      "text/html": [
       "<pre>| 3         | 19       | 25.000000 | 0.621311     | 0.686280          | 0.680307            |</pre>"
      ],
      "text/plain": [
       "| 3         | 19       | 25.000000 | 0.621311     | 0.686280          | 0.680307            |"
      ]
     },
     "metadata": {},
     "output_type": "display_data"
    },
    {
     "data": {
      "text/html": [
       "<pre>| 4         | 20       | 25.000000 | 0.696856     | 0.714262          | 0.719949            |</pre>"
      ],
      "text/plain": [
       "| 4         | 20       | 25.000000 | 0.696856     | 0.714262          | 0.719949            |"
      ]
     },
     "metadata": {},
     "output_type": "display_data"
    },
    {
     "data": {
      "text/html": [
       "<pre>| 9         | 38       | 1.543422  | 1.378413     | 0.838504          | 0.826087            |</pre>"
      ],
      "text/plain": [
       "| 9         | 38       | 1.543422  | 1.378413     | 0.838504          | 0.826087            |"
      ]
     },
     "metadata": {},
     "output_type": "display_data"
    },
    {
     "data": {
      "text/html": [
       "<pre>+-----------+----------+-----------+--------------+-------------------+---------------------+</pre>"
      ],
      "text/plain": [
       "+-----------+----------+-----------+--------------+-------------------+---------------------+"
      ]
     },
     "metadata": {},
     "output_type": "display_data"
    },
    {
     "name": "stdout",
     "output_type": "stream",
     "text": [
      "PROGRESS: Model selection based on validation accuracy:\n",
      "PROGRESS: ---------------------------------------------\n",
      "PROGRESS: LogisticClassifier              : 0.8727621483375959\n",
      "PROGRESS: SVMClassifier                   : 0.8260869565217391\n",
      "PROGRESS: ---------------------------------------------\n",
      "PROGRESS: Selecting LogisticClassifier based on validation set performance.\n"
     ]
    },
    {
     "data": {
      "text/plain": [
       "{'accuracy': 0.872776142326891,\n",
       " 'auc': 0.9267089010541464,\n",
       " 'confusion_matrix': Columns:\n",
       " \ttarget_label\tstr\n",
       " \tpredicted_label\tstr\n",
       " \tcount\tint\n",
       " \n",
       " Rows: 4\n",
       " \n",
       " Data:\n",
       " +--------------+-----------------+-------+\n",
       " | target_label | predicted_label | count |\n",
       " +--------------+-----------------+-------+\n",
       " |  not happy   |      happy      |  584  |\n",
       " |    happy     |    not happy    |  410  |\n",
       " |    happy     |      happy      |  4892 |\n",
       " |  not happy   |    not happy    |  1927 |\n",
       " +--------------+-----------------+-------+\n",
       " [4 rows x 3 columns],\n",
       " 'f1_score': 0.79496699669967,\n",
       " 'log_loss': 0.3186978397260243,\n",
       " 'precision': 0.8245614035087719,\n",
       " 'recall': 0.7674233373158105,\n",
       " 'roc_curve': Columns:\n",
       " \tthreshold\tfloat\n",
       " \tfpr\tfloat\n",
       " \ttpr\tfloat\n",
       " \tp\tint\n",
       " \tn\tint\n",
       " \n",
       " Rows: 100001\n",
       " \n",
       " Data:\n",
       " +-----------+--------------------+-----+------+------+\n",
       " | threshold |        fpr         | tpr |  p   |  n   |\n",
       " +-----------+--------------------+-----+------+------+\n",
       " |    0.0    |        1.0         | 1.0 | 2511 | 5302 |\n",
       " |   1e-05   | 0.990946812523576  | 1.0 | 2511 | 5302 |\n",
       " |   2e-05   | 0.987929083364768  | 1.0 | 2511 | 5302 |\n",
       " |   3e-05   | 0.984156921916258  | 1.0 | 2511 | 5302 |\n",
       " |   4e-05   | 0.981893625047152  | 1.0 | 2511 | 5302 |\n",
       " |   5e-05   | 0.9786872878159185 | 1.0 | 2511 | 5302 |\n",
       " |   6e-05   | 0.976989815164089  | 1.0 | 2511 | 5302 |\n",
       " |   7e-05   | 0.9760467748019616 | 1.0 | 2511 | 5302 |\n",
       " |   8e-05   | 0.9739720860052811 | 1.0 | 2511 | 5302 |\n",
       " |   9e-05   | 0.9726518294983025 | 1.0 | 2511 | 5302 |\n",
       " +-----------+--------------------+-----+------+------+\n",
       " [100001 rows x 5 columns]\n",
       " Note: Only the head of the SFrame is printed.\n",
       " You can use print_rows(num_rows=m, num_columns=n) to print more rows and columns.}"
      ]
     },
     "execution_count": 38,
     "metadata": {},
     "output_type": "execute_result"
    }
   ],
   "source": [
    "train, test = hotel_sf.random_split(0.8)\n",
    "cls1 = tc.classifier.create(train,features=['embedding'], target=\"sentiment\")\n",
    "cls1.evaluate(test)"
   ]
  },
  {
   "cell_type": "code",
   "execution_count": 43,
   "metadata": {},
   "outputs": [
    {
     "name": "stdout",
     "output_type": "stream",
     "text": [
      "PROGRESS: Creating a validation set from 5 percent of training data. This may take a while.\n",
      "          You can set ``validation_set=None`` to disable validation tracking.\n",
      "\n",
      "PROGRESS: The following methods are available for this type of problem.\n",
      "PROGRESS: LogisticClassifier, SVMClassifier\n",
      "PROGRESS: The returned model will be chosen according to validation accuracy.\n"
     ]
    },
    {
     "data": {
      "text/html": [
       "<pre>Logistic regression:</pre>"
      ],
      "text/plain": [
       "Logistic regression:"
      ]
     },
     "metadata": {},
     "output_type": "display_data"
    },
    {
     "data": {
      "text/html": [
       "<pre>--------------------------------------------------------</pre>"
      ],
      "text/plain": [
       "--------------------------------------------------------"
      ]
     },
     "metadata": {},
     "output_type": "display_data"
    },
    {
     "data": {
      "text/html": [
       "<pre>Number of examples          : 29542</pre>"
      ],
      "text/plain": [
       "Number of examples          : 29542"
      ]
     },
     "metadata": {},
     "output_type": "display_data"
    },
    {
     "data": {
      "text/html": [
       "<pre>Number of classes           : 2</pre>"
      ],
      "text/plain": [
       "Number of classes           : 2"
      ]
     },
     "metadata": {},
     "output_type": "display_data"
    },
    {
     "data": {
      "text/html": [
       "<pre>Number of feature columns   : 4</pre>"
      ],
      "text/plain": [
       "Number of feature columns   : 4"
      ]
     },
     "metadata": {},
     "output_type": "display_data"
    },
    {
     "data": {
      "text/html": [
       "<pre>Number of unpacked features : 688049</pre>"
      ],
      "text/plain": [
       "Number of unpacked features : 688049"
      ]
     },
     "metadata": {},
     "output_type": "display_data"
    },
    {
     "data": {
      "text/html": [
       "<pre>Number of coefficients      : 688050</pre>"
      ],
      "text/plain": [
       "Number of coefficients      : 688050"
      ]
     },
     "metadata": {},
     "output_type": "display_data"
    },
    {
     "data": {
      "text/html": [
       "<pre>Starting L-BFGS</pre>"
      ],
      "text/plain": [
       "Starting L-BFGS"
      ]
     },
     "metadata": {},
     "output_type": "display_data"
    },
    {
     "data": {
      "text/html": [
       "<pre>--------------------------------------------------------</pre>"
      ],
      "text/plain": [
       "--------------------------------------------------------"
      ]
     },
     "metadata": {},
     "output_type": "display_data"
    },
    {
     "data": {
      "text/html": [
       "<pre>+-----------+----------+-----------+--------------+-------------------+---------------------+</pre>"
      ],
      "text/plain": [
       "+-----------+----------+-----------+--------------+-------------------+---------------------+"
      ]
     },
     "metadata": {},
     "output_type": "display_data"
    },
    {
     "data": {
      "text/html": [
       "<pre>| Iteration | Passes   | Step size | Elapsed Time | Training Accuracy | Validation Accuracy |</pre>"
      ],
      "text/plain": [
       "| Iteration | Passes   | Step size | Elapsed Time | Training Accuracy | Validation Accuracy |"
      ]
     },
     "metadata": {},
     "output_type": "display_data"
    },
    {
     "data": {
      "text/html": [
       "<pre>+-----------+----------+-----------+--------------+-------------------+---------------------+</pre>"
      ],
      "text/plain": [
       "+-----------+----------+-----------+--------------+-------------------+---------------------+"
      ]
     },
     "metadata": {},
     "output_type": "display_data"
    },
    {
     "data": {
      "text/html": [
       "<pre>| 0         | 5        | 0.065686  | 1.049831     | 0.707027          | 0.680104            |</pre>"
      ],
      "text/plain": [
       "| 0         | 5        | 0.065686  | 1.049831     | 0.707027          | 0.680104            |"
      ]
     },
     "metadata": {},
     "output_type": "display_data"
    },
    {
     "data": {
      "text/html": [
       "<pre>| 1         | 9        | 1.379414  | 1.864426     | 0.906404          | 0.767880            |</pre>"
      ],
      "text/plain": [
       "| 1         | 9        | 1.379414  | 1.864426     | 0.906404          | 0.767880            |"
      ]
     },
     "metadata": {},
     "output_type": "display_data"
    },
    {
     "data": {
      "text/html": [
       "<pre>| 2         | 10       | 1.379414  | 2.131191     | 0.969264          | 0.833550            |</pre>"
      ],
      "text/plain": [
       "| 2         | 10       | 1.379414  | 2.131191     | 0.969264          | 0.833550            |"
      ]
     },
     "metadata": {},
     "output_type": "display_data"
    },
    {
     "data": {
      "text/html": [
       "<pre>| 3         | 11       | 1.379414  | 2.400776     | 0.988796          | 0.858257            |</pre>"
      ],
      "text/plain": [
       "| 3         | 11       | 1.379414  | 2.400776     | 0.988796          | 0.858257            |"
      ]
     },
     "metadata": {},
     "output_type": "display_data"
    },
    {
     "data": {
      "text/html": [
       "<pre>| 4         | 12       | 1.379414  | 2.662130     | 0.995633          | 0.866060            |</pre>"
      ],
      "text/plain": [
       "| 4         | 12       | 1.379414  | 2.662130     | 0.995633          | 0.866060            |"
      ]
     },
     "metadata": {},
     "output_type": "display_data"
    },
    {
     "data": {
      "text/html": [
       "<pre>| 9         | 18       | 1.379414  | 4.189993     | 0.999966          | 0.868010            |</pre>"
      ],
      "text/plain": [
       "| 9         | 18       | 1.379414  | 4.189993     | 0.999966          | 0.868010            |"
      ]
     },
     "metadata": {},
     "output_type": "display_data"
    },
    {
     "data": {
      "text/html": [
       "<pre>+-----------+----------+-----------+--------------+-------------------+---------------------+</pre>"
      ],
      "text/plain": [
       "+-----------+----------+-----------+--------------+-------------------+---------------------+"
      ]
     },
     "metadata": {},
     "output_type": "display_data"
    },
    {
     "data": {
      "text/html": [
       "<pre>SVM:</pre>"
      ],
      "text/plain": [
       "SVM:"
      ]
     },
     "metadata": {},
     "output_type": "display_data"
    },
    {
     "data": {
      "text/html": [
       "<pre>--------------------------------------------------------</pre>"
      ],
      "text/plain": [
       "--------------------------------------------------------"
      ]
     },
     "metadata": {},
     "output_type": "display_data"
    },
    {
     "data": {
      "text/html": [
       "<pre>Number of examples          : 29542</pre>"
      ],
      "text/plain": [
       "Number of examples          : 29542"
      ]
     },
     "metadata": {},
     "output_type": "display_data"
    },
    {
     "data": {
      "text/html": [
       "<pre>Number of classes           : 2</pre>"
      ],
      "text/plain": [
       "Number of classes           : 2"
      ]
     },
     "metadata": {},
     "output_type": "display_data"
    },
    {
     "data": {
      "text/html": [
       "<pre>Number of feature columns   : 4</pre>"
      ],
      "text/plain": [
       "Number of feature columns   : 4"
      ]
     },
     "metadata": {},
     "output_type": "display_data"
    },
    {
     "data": {
      "text/html": [
       "<pre>Number of unpacked features : 688049</pre>"
      ],
      "text/plain": [
       "Number of unpacked features : 688049"
      ]
     },
     "metadata": {},
     "output_type": "display_data"
    },
    {
     "data": {
      "text/html": [
       "<pre>Number of coefficients    : 688050</pre>"
      ],
      "text/plain": [
       "Number of coefficients    : 688050"
      ]
     },
     "metadata": {},
     "output_type": "display_data"
    },
    {
     "data": {
      "text/html": [
       "<pre>Starting L-BFGS</pre>"
      ],
      "text/plain": [
       "Starting L-BFGS"
      ]
     },
     "metadata": {},
     "output_type": "display_data"
    },
    {
     "data": {
      "text/html": [
       "<pre>--------------------------------------------------------</pre>"
      ],
      "text/plain": [
       "--------------------------------------------------------"
      ]
     },
     "metadata": {},
     "output_type": "display_data"
    },
    {
     "data": {
      "text/html": [
       "<pre>+-----------+----------+-----------+--------------+-------------------+---------------------+</pre>"
      ],
      "text/plain": [
       "+-----------+----------+-----------+--------------+-------------------+---------------------+"
      ]
     },
     "metadata": {},
     "output_type": "display_data"
    },
    {
     "data": {
      "text/html": [
       "<pre>| Iteration | Passes   | Step size | Elapsed Time | Training Accuracy | Validation Accuracy |</pre>"
      ],
      "text/plain": [
       "| Iteration | Passes   | Step size | Elapsed Time | Training Accuracy | Validation Accuracy |"
      ]
     },
     "metadata": {},
     "output_type": "display_data"
    },
    {
     "data": {
      "text/html": [
       "<pre>+-----------+----------+-----------+--------------+-------------------+---------------------+</pre>"
      ],
      "text/plain": [
       "+-----------+----------+-----------+--------------+-------------------+---------------------+"
      ]
     },
     "metadata": {},
     "output_type": "display_data"
    },
    {
     "data": {
      "text/html": [
       "<pre>| 0         | 5        | 0.071685  | 0.933215     | 0.707027          | 0.680104            |</pre>"
      ],
      "text/plain": [
       "| 0         | 5        | 0.071685  | 0.933215     | 0.707027          | 0.680104            |"
      ]
     },
     "metadata": {},
     "output_type": "display_data"
    },
    {
     "data": {
      "text/html": [
       "<pre>| 1         | 9        | 1.505385  | 1.659827     | 0.915138          | 0.786086            |</pre>"
      ],
      "text/plain": [
       "| 1         | 9        | 1.505385  | 1.659827     | 0.915138          | 0.786086            |"
      ]
     },
     "metadata": {},
     "output_type": "display_data"
    },
    {
     "data": {
      "text/html": [
       "<pre>| 2         | 10       | 1.505385  | 1.892407     | 0.980739          | 0.838752            |</pre>"
      ],
      "text/plain": [
       "| 2         | 10       | 1.505385  | 1.892407     | 0.980739          | 0.838752            |"
      ]
     },
     "metadata": {},
     "output_type": "display_data"
    },
    {
     "data": {
      "text/html": [
       "<pre>| 3         | 12       | 1.124660  | 2.309932     | 0.992553          | 0.858257            |</pre>"
      ],
      "text/plain": [
       "| 3         | 12       | 1.124660  | 2.309932     | 0.992553          | 0.858257            |"
      ]
     },
     "metadata": {},
     "output_type": "display_data"
    },
    {
     "data": {
      "text/html": [
       "<pre>| 4         | 13       | 1.124660  | 2.580261     | 0.995532          | 0.862809            |</pre>"
      ],
      "text/plain": [
       "| 4         | 13       | 1.124660  | 2.580261     | 0.995532          | 0.862809            |"
      ]
     },
     "metadata": {},
     "output_type": "display_data"
    },
    {
     "data": {
      "text/html": [
       "<pre>| 9         | 18       | 1.124660  | 3.843653     | 0.999797          | 0.870611            |</pre>"
      ],
      "text/plain": [
       "| 9         | 18       | 1.124660  | 3.843653     | 0.999797          | 0.870611            |"
      ]
     },
     "metadata": {},
     "output_type": "display_data"
    },
    {
     "data": {
      "text/html": [
       "<pre>+-----------+----------+-----------+--------------+-------------------+---------------------+</pre>"
      ],
      "text/plain": [
       "+-----------+----------+-----------+--------------+-------------------+---------------------+"
      ]
     },
     "metadata": {},
     "output_type": "display_data"
    },
    {
     "name": "stdout",
     "output_type": "stream",
     "text": [
      "PROGRESS: Model selection based on validation accuracy:\n",
      "PROGRESS: ---------------------------------------------\n",
      "PROGRESS: LogisticClassifier              : 0.8680104031209362\n",
      "PROGRESS: SVMClassifier                   : 0.8706111833550065\n",
      "PROGRESS: ---------------------------------------------\n",
      "PROGRESS: Selecting SVMClassifier based on validation set performance.\n"
     ]
    },
    {
     "data": {
      "text/plain": [
       "{'accuracy': 0.8652572592969944, 'confusion_matrix': Columns:\n",
       " \ttarget_label\tstr\n",
       " \tpredicted_label\tstr\n",
       " \tcount\tint\n",
       " \n",
       " Rows: 4\n",
       " \n",
       " Data:\n",
       " +--------------+-----------------+-------+\n",
       " | target_label | predicted_label | count |\n",
       " +--------------+-----------------+-------+\n",
       " |    happy     |    not happy    |  607  |\n",
       " |  not happy   |      happy      |  451  |\n",
       " |  not happy   |    not happy    |  2088 |\n",
       " |    happy     |      happy      |  4706 |\n",
       " +--------------+-----------------+-------+\n",
       " [4 rows x 3 columns], 'f1_score': 0.7978601452044325, 'precision': 0.7747680890538033, 'recall': 0.8223710122095313}"
      ]
     },
     "execution_count": 43,
     "metadata": {},
     "output_type": "execute_result"
    }
   ],
   "source": [
    "hotel_sf['words_2grams'] = tc.text_analytics.count_ngrams(h_sf['Description'], n=2, method='word')\n",
    "hotel_sf['words_2grams'] = hotel_sf['words_2grams'].dict_trim_by_keys(tc.text_analytics.stop_words(lang='en'), exclude=True)\n",
    "hotel_sf['afinn_score'] = hotel_sf['Description'].apply(lambda t: afinn.score(t))\n",
    "hotel_sf['blob'] = hotel_sf['Description'].apply(lambda t: TextBlob(t).sentiment.polarity)\n",
    "\n",
    "train, test = hotel_sf.random_split(0.8)\n",
    "feature_list = ['embedding','blob','afinn_score','words_2grams']\n",
    "\n",
    "cls1 = tc.classifier.create(train,features=feature_list, target=\"sentiment\")\n",
    "cls1.evaluate(test)\n",
    "\n"
   ]
  },
  {
   "cell_type": "code",
   "execution_count": null,
   "metadata": {},
   "outputs": [],
   "source": []
  }
 ],
 "metadata": {
  "kernelspec": {
   "display_name": "Python 3",
   "language": "python",
   "name": "python3"
  },
  "language_info": {
   "codemirror_mode": {
    "name": "ipython",
    "version": 3
   },
   "file_extension": ".py",
   "mimetype": "text/x-python",
   "name": "python",
   "nbconvert_exporter": "python",
   "pygments_lexer": "ipython3",
   "version": "3.6.7"
  }
 },
 "nbformat": 4,
 "nbformat_minor": 2
}
