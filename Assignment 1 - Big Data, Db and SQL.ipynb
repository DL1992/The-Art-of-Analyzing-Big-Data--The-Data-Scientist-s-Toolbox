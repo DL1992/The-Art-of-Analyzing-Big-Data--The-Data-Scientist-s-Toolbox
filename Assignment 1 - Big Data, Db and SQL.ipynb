{
 "cells": [
  {
   "cell_type": "markdown",
   "metadata": {},
   "source": [
    "# Homework Assignment 1\n",
    "### The Art of Analyzing Big Data- The Data Scientist’s Toolbox "
   ]
  },
  {
   "cell_type": "markdown",
   "metadata": {},
   "source": [
    "For this homework you will need to write code that analyzes real-world datasets. The code needs to be written in Python using the [sqlite3](https://docs.python.org/2/library/sqlite3.html) package. \n"
   ]
  },
  {
   "cell_type": "markdown",
   "metadata": {},
   "source": [
    "# Babies Names Dataset"
   ]
  },
  {
   "cell_type": "markdown",
   "metadata": {},
   "source": [
    "**Task 1 (for everyone):** Write a code that uses the  [babies names dataset](https://catalog.data.gov/dataset/baby-names-from-social-security-card-applications-data-by-state-and-district-of-#topic=developers_navigation) and creates a table named (Names) with the dataset data and the following columns: 'State', 'Gender', 'Name', 'Number' (5pt)\n",
    "**Bonus:** Load the data using a Batch INSERT SQL Query (5pt)"
   ]
  },
  {
   "cell_type": "code",
   "execution_count": 65,
   "metadata": {},
   "outputs": [],
   "source": [
    "import sqlite3\n",
    "import os\n",
    "\"\"\"\n",
    "A Db file with the babies names dataset was created before to be use with this assingment.\n",
    "\"\"\"\n",
    "Db_Path = '../datasets/'\n",
    "Db_name = 'Names1'\n",
    "\n",
    "db = sqlite3.connect(f'{Db_Path}{Db_name}.db')\n",
    "c = db.cursor()\n",
    "c.execute(\"create table Names(State, Gender, Year INT, Name, Number INT)\")\n",
    "directory = os.fsdecode(Db_Path+'babynames')\n",
    "\n",
    "for file in os.listdir(directory):\n",
    "    filename = os.fsdecode(file)\n",
    "    with open(os.path.join(directory, filename), \"r\") as input_file:\n",
    "        records = [tuple(line.rstrip('\\n').split(',')) for line in input_file]\n",
    "    c.executemany(\"insert into Names values (?,?,?,?,?);\", records)\n",
    "db.commit()\n",
    "\n"
   ]
  },
  {
   "cell_type": "markdown",
   "metadata": {},
   "source": [
    "**Task 2:** Write a query that returns the statistics for the name Mary (5pt). Use the [the timeit package](https://docs.python.org/3/library/timeit.html) to measure the time it takes the query to run (5pt). [Create an index](https://www.w3schools.com/sql/sql_create_index.asp)  on the _Name_ column and use the [the timeit package](https://docs.python.org/3/library/timeit.html) to measure the time it takes the query to run with the index (10pt)"
   ]
  },
  {
   "cell_type": "code",
   "execution_count": 66,
   "metadata": {},
   "outputs": [
    {
     "name": "stdout",
     "output_type": "stream",
     "text": [
      "3.17 s ± 116 ms per loop (mean ± std. dev. of 7 runs, 1 loop each)\n"
     ]
    }
   ],
   "source": [
    "%%timeit\n",
    "# Part 1 - running query without index\n",
    "query = \"\"\"SELECT Year, sum(NUMBER) as c FROM Names Where Name=='Mary' GROUP BY Year \"\"\"\n",
    "c.execute(query)"
   ]
  },
  {
   "cell_type": "code",
   "execution_count": 67,
   "metadata": {},
   "outputs": [
    {
     "data": {
      "text/plain": [
       "<sqlite3.Cursor at 0x14f40d1c810>"
      ]
     },
     "execution_count": 67,
     "metadata": {},
     "output_type": "execute_result"
    }
   ],
   "source": [
    "index_query = \"CREATE INDEX name_index ON Names(Name)\"\n",
    "c.execute(index_query)\n"
   ]
  },
  {
   "cell_type": "code",
   "execution_count": 68,
   "metadata": {},
   "outputs": [
    {
     "name": "stdout",
     "output_type": "stream",
     "text": [
      "264 ms ± 6.8 ms per loop (mean ± std. dev. of 7 runs, 1 loop each)\n"
     ]
    }
   ],
   "source": [
    "%%timeit\n",
    "# Part 1- running query with index\n",
    "query = \"\"\"SELECT Year, sum(NUMBER) as c FROM Names Where Name=='Mary' GROUP BY Year \"\"\"\n",
    "c.execute(query)"
   ]
  },
  {
   "cell_type": "code",
   "execution_count": 69,
   "metadata": {},
   "outputs": [
    {
     "data": {
      "image/png": "[encoded data removed]",
      "text/plain": [
       "<Figure size 432x288 with 1 Axes>"
      ]
     },
     "metadata": {
      "needs_background": "light"
     },
     "output_type": "display_data"
    }
   ],
   "source": [
    "# Show babies named 'Mary' distrubution over the years.\n",
    "import matplotlib.pyplot as plt\n",
    "%matplotlib inline\n",
    "query = \"\"\"SELECT Year, sum(NUMBER) as c FROM Names Where Name=='Mary' GROUP BY Year \"\"\"\n",
    "year_list = []\n",
    "count_list = []\n",
    "for row in c.execute(query):\n",
    "    year_list.append(row[0])\n",
    "    count_list.append(row[1])\n",
    "plt.scatter(year_list, count_list)\n",
    "plt.show()"
   ]
  },
  {
   "cell_type": "markdown",
   "metadata": {},
   "source": [
    "***Question 1:*** Write a function that returns how many babies were born in a given state in a given year.\n",
    "Use it to calculate the number of babies born in LA in 1950 (15pt)"
   ]
  },
  {
   "cell_type": "code",
   "execution_count": 17,
   "metadata": {},
   "outputs": [
    {
     "name": "stdout",
     "output_type": "stream",
     "text": [
      "there were 48148 babies born in NY in the year 1910\n"
     ]
    }
   ],
   "source": [
    "def calc_babies_in_year_and_state(state,year):\n",
    "    query = \"\"\"SELECT sum(number) FROM Names WHERE State==? AND Year==?\"\"\"\n",
    "    print(\"there were {} babies born in {} in the year {}\".format( c.execute(query, (state, year)).fetchone()[0],state,year))\n",
    "\n",
    "calc_babies_in_year_and_state('NY',1910)"
   ]
  },
  {
   "cell_type": "markdown",
   "metadata": {},
   "source": [
    "**Question:** For the state of NY write code that calculates the second most popular female/male names in each decade in each state (10pt). Visualize it somehow using Matplotlib (5pt)"
   ]
  },
  {
   "cell_type": "code",
   "execution_count": 86,
   "metadata": {},
   "outputs": [
    {
     "data": {
      "image/png": "[encoded data removed]",
      "text/plain": [
       "<Figure size 432x288 with 1 Axes>"
      ]
     },
     "metadata": {
      "needs_background": "light"
     },
     "output_type": "display_data"
    }
   ],
   "source": [
    "def second_max_for_decade(state,decade,gender):\n",
    "\n",
    "    query = '''SELECT Name, Year, MAX(Number) as Second_Max\n",
    "            FROM Names\n",
    "            NATURAL JOIN \n",
    "                (SELECT Year, MAX(Number) AS Max_decade\n",
    "                FROM Names\n",
    "                WHERE State=? AND Year / 10 = ? AND Gender = ?\n",
    "                GROUP BY Year)\n",
    "            WHERE State=? AND Year / 10 = ? AND Gender = ? AND Number != Max_decade\n",
    "            GROUP BY Year'''\n",
    "    return c.execute(query,(state,decade,gender,state,decade,gender))\n",
    "\n",
    "a = second_max_for_decade('NY',197,'F')\n",
    "names,years,maxs = [], [], []\n",
    "for record in a.fetchall():\n",
    "    names.append(record[0])\n",
    "    years.append(record[1])\n",
    "    maxs.append(record[2])\n",
    "    \n",
    "fig, ax = plt.subplots()\n",
    "ax.bar(years, maxs)\n",
    "for i, txt in enumerate(names):\n",
    "    ax.annotate(txt, (years[i], maxs[i]))\n",
    "plt.show()"
   ]
  },
  {
   "cell_type": "code",
   "execution_count": 87,
   "metadata": {},
   "outputs": [],
   "source": [
    "c.close()\n",
    "db.close()"
   ]
  },
  {
   "cell_type": "markdown",
   "metadata": {},
   "source": [
    "# Flavors of Cacao Dataset"
   ]
  },
  {
   "cell_type": "markdown",
   "metadata": {},
   "source": [
    "Using the [Flavors of Cacao](https://www.kaggle.com/rombikuboktaeder/choco-flavors) dataset, answer the following questions:"
   ]
  },
  {
   "cell_type": "markdown",
   "metadata": {},
   "source": [
    "**Question 1:** Write a function that returns the number of bars manufactured where the bars' BroadBean Origin is a given country. Use the function to calculate the number of bars where BroadBean Origin is 'Fiji' (15 pt)"
   ]
  },
  {
   "cell_type": "code",
   "execution_count": 88,
   "metadata": {},
   "outputs": [
    {
     "name": "stdout",
     "output_type": "stream",
     "text": [
      "6\n"
     ]
    }
   ],
   "source": [
    "Db_Path = '../datasets/'\n",
    "Db_name = 'flavors_of_cacao'\n",
    "\n",
    "db = sqlite3.connect(f'{Db_Path}{Db_name}.db')\n",
    "c = db.cursor()\n",
    "\n",
    "def calc_num_of_bars_in_state(country):\n",
    "    query = '''Select count(DISTINCT Specific_Bean_Origin_or_Bar_Name) FROM Cacao\n",
    "                WHERE Broad_Bean_Origin=? '''\n",
    "    return c.execute(query,(country,)).fetchone()[0]\n",
    "\n",
    "print(calc_num_of_bars_in_state('Fiji'))\n",
    "c.close()\n",
    "db.close()"
   ]
  },
  {
   "cell_type": "markdown",
   "metadata": {},
   "source": [
    "# Kickstarter Projects Dataset"
   ]
  },
  {
   "cell_type": "markdown",
   "metadata": {},
   "source": [
    "Using the [Kickstarter Projects Dataset](https://www.kaggle.com/kemical/kickstarter-projects#ks-projects-201801.csv), answer the following questions:"
   ]
  },
  {
   "cell_type": "markdown",
   "metadata": {},
   "source": [
    "**Question 1:** On average which project category received the highest pledged USD? (15 pt)"
   ]
  },
  {
   "cell_type": "code",
   "execution_count": 89,
   "metadata": {},
   "outputs": [
    {
     "name": "stdout",
     "output_type": "stream",
     "text": [
      "on average the project category that received the highest pledged USD is: 3D Printing\n"
     ]
    }
   ],
   "source": [
    "Db_Path = '../datasets/'\n",
    "Db_name = 'ks18'\n",
    "\n",
    "db = sqlite3.connect(f'{Db_Path}{Db_name}.db')\n",
    "c = db.cursor()\n",
    "\n",
    "query = '''select avg(usdpledged) as avgU ,category from \n",
    "            ksProjects\n",
    "            group by category order by avgU desc limit 0,1'''\n",
    "\n",
    "print(\"on average the project category that received the highest pledged USD is: {}\".format(c.execute(query).fetchone()[1]))\n",
    "\n",
    "c.close()\n",
    "db.close()"
   ]
  },
  {
   "cell_type": "markdown",
   "metadata": {},
   "source": [
    "### Oscars Datasets"
   ]
  },
  {
   "cell_type": "markdown",
   "metadata": {},
   "source": [
    "Using the [Oscars Dataset](https://www.kaggle.com/theacademy/academy-awards), answer the following questions:"
   ]
  },
  {
   "cell_type": "markdown",
   "metadata": {},
   "source": [
    "**Question 1:** Who is the female actress with the most Oscar nominees? (10pt)"
   ]
  },
  {
   "cell_type": "code",
   "execution_count": 90,
   "metadata": {},
   "outputs": [
    {
     "name": "stdout",
     "output_type": "stream",
     "text": [
      "the female actress with most oscar nominees is: Meryl Streep\n"
     ]
    }
   ],
   "source": [
    "Db_Path = '../datasets/'\n",
    "Db_name = 'Oscar'\n",
    "\n",
    "db = sqlite3.connect(f'{Db_Path}{Db_name}.db')\n",
    "c = db.cursor()\n",
    "query = '''select count(*) as cnt,Name from Oscar\n",
    "where Award like '%Actress%'\n",
    "group by Name order by cnt desc limit 0,1'''\n",
    "print(\"the female actress with most oscar nominees is: {}\".format(c.execute(query).fetchone()[1]))\n",
    "\n",
    "c.close()\n",
    "db.close()"
   ]
  },
  {
   "cell_type": "markdown",
   "metadata": {},
   "source": [
    "## Select a Dataset"
   ]
  },
  {
   "cell_type": "markdown",
   "metadata": {},
   "source": [
    "**Open Question:** Select an interesting dataset and use SQL to discover something interesting (10pt)\n",
    "\n",
    "There is a very common joke about superheros that superheroes writes, like stan lee, were lazy and a lot of the time gave their character first and last names that start with the same letter like peter parker, sue storm and more. lets see if that really the case!"
   ]
  },
  {
   "cell_type": "code",
   "execution_count": 55,
   "metadata": {},
   "outputs": [
    {
     "name": "stdout",
     "output_type": "stream",
     "text": [
      "acording to the database and unlike common joke \n",
      "only 5.38% of comicbook heroes have the same first letter \n",
      "in their first and last name\n"
     ]
    }
   ],
   "source": [
    "Db_Path = '../datasets/'\n",
    "Db_name = 'marvel'\n",
    "\n",
    "db = sqlite3.connect(f'{Db_Path}{Db_name}.db')\n",
    "c = db.cursor()\n",
    "\n",
    "query1 = \"Select count(*) from marvel_dc_characters\"\n",
    "num_of_characters = c.execute(query1).fetchone()[0]\n",
    "\n",
    "query2 = \"\"\"SELECT count(*) as cnt FROM ( \n",
    "\tSELECT substr(first_name,1,1) AS sub1, substr(last_name,1,1) AS sub2\t\n",
    "\tfrom(\n",
    "\t\tSELECT \n",
    "\t\t\tsubstr(name, 1, instr(name, ' ') - 1) AS first_name,\n",
    "\t\t\tsubstr(name,    instr(name, ' ') + 1) AS last_name\n",
    "\t\tfrom marvel_dc_characters))\n",
    "where sub1=sub2\"\"\"\n",
    "num_of_characters_with_same_letter = c.execute(query2).fetchone()[0]\n",
    "\n",
    "print(\"\"\"acording to the database and unlike common joke \n",
    "only {}% of comicbook heroes have the same first letter \n",
    "in their first and last name\"\"\".format(round((num_of_characters_with_same_letter/num_of_characters)*100, 2)))\n"
   ]
  },
  {
   "cell_type": "code",
   "execution_count": null,
   "metadata": {},
   "outputs": [],
   "source": []
  }
 ],
 "metadata": {
  "kernelspec": {
   "display_name": "Python 3",
   "language": "python",
   "name": "python3"
  },
  "language_info": {
   "codemirror_mode": {
    "name": "ipython",
    "version": 3
   },
   "file_extension": ".py",
   "mimetype": "text/x-python",
   "name": "python",
   "nbconvert_exporter": "python",
   "pygments_lexer": "ipython3",
   "version": "3.6.7"
  }
 },
 "nbformat": 4,
 "nbformat_minor": 2
}
